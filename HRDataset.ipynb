{
  "nbformat": 4,
  "nbformat_minor": 0,
  "metadata": {
    "colab": {
      "name": "HRDataset.ipynb",
      "provenance": [],
      "authorship_tag": "ABX9TyP/KgRz/0UNjYjdxnEmjxEl",
      "include_colab_link": true
    },
    "kernelspec": {
      "name": "python3",
      "display_name": "Python 3"
    }
  },
  "cells": [
    {
      "cell_type": "markdown",
      "metadata": {
        "id": "view-in-github",
        "colab_type": "text"
      },
      "source": [
        "<a href=\"https://colab.research.google.com/github/RicStrong/HR_Dataset/blob/master/HRDataset.ipynb\" target=\"_parent\"><img src=\"https://colab.research.google.com/assets/colab-badge.svg\" alt=\"Open In Colab\"/></a>"
      ]
    },
    {
      "cell_type": "markdown",
      "metadata": {
        "id": "B-qxzz9Z4PNk",
        "colab_type": "text"
      },
      "source": [
        "https://www.kaggle.com/rhuebner/human-resources-data-set/data#\n",
        "\n",
        "For Data Dictionary, please see:\n",
        "https://rpubs.com/rhuebner/HRCodebook-13\n",
        "\n",
        "\"The HR Dataset was designed by Drs. Rich Huebner and Carla Patalano to accompany a case study designed for graduate HR students studying HR metrics, measurement, and analytics.\"\n",
        "\n",
        "\n"
      ]
    },
    {
      "cell_type": "code",
      "metadata": {
        "id": "pCkE4pqt2AJC",
        "colab_type": "code",
        "outputId": "86b30386-1500-49dc-d6bd-c8569810eec8",
        "colab": {
          "resources": {
            "http://localhost:8080/nbextensions/google.colab/files.js": {
              "data": "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",
              "ok": true,
              "headers": [
                [
                  "content-type",
                  "application/javascript"
                ]
              ],
              "status": 200,
              "status_text": ""
            }
          },
          "base_uri": "https://localhost:8080/",
          "height": 72
        }
      },
      "source": [
        "from google.colab import files\n",
        "uploaded = files.upload()"
      ],
      "execution_count": 0,
      "outputs": [
        {
          "output_type": "display_data",
          "data": {
            "text/html": [
              "\n",
              "     <input type=\"file\" id=\"files-922c9587-674b-4d35-8184-a7f2c6fb1e31\" name=\"files[]\" multiple disabled />\n",
              "     <output id=\"result-922c9587-674b-4d35-8184-a7f2c6fb1e31\">\n",
              "      Upload widget is only available when the cell has been executed in the\n",
              "      current browser session. Please rerun this cell to enable.\n",
              "      </output>\n",
              "      <script src=\"/nbextensions/google.colab/files.js\"></script> "
            ],
            "text/plain": [
              "<IPython.core.display.HTML object>"
            ]
          },
          "metadata": {
            "tags": []
          }
        },
        {
          "output_type": "stream",
          "text": [
            "Saving HRDataset_v13.csv to HRDataset_v13.csv\n"
          ],
          "name": "stdout"
        }
      ]
    },
    {
      "cell_type": "code",
      "metadata": {
        "id": "ly__ke0s24mr",
        "colab_type": "code",
        "outputId": "ad3a12eb-9de4-40ad-9458-3d45a633eb86",
        "colab": {
          "base_uri": "https://localhost:8080/",
          "height": 265
        }
      },
      "source": [
        "%matplotlib inline\n",
        "!pip install missingno\n",
        "import pandas as pd \n",
        "import matplotlib.pyplot as plt\n",
        "import io\n",
        "from sklearn import decomposition, preprocessing, cluster, tree\n",
        "from yellowbrick.cluster.silhouette import SilhouetteVisualizer\n",
        "from scipy.cluster import hierarchy\n",
        "import seaborn as sns\n"
      ],
      "execution_count": 0,
      "outputs": [
        {
          "output_type": "stream",
          "text": [
            "Requirement already satisfied: missingno in /usr/local/lib/python3.6/dist-packages (0.4.2)\n",
            "Requirement already satisfied: scipy in /usr/local/lib/python3.6/dist-packages (from missingno) (1.4.1)\n",
            "Requirement already satisfied: matplotlib in /usr/local/lib/python3.6/dist-packages (from missingno) (3.2.1)\n",
            "Requirement already satisfied: numpy in /usr/local/lib/python3.6/dist-packages (from missingno) (1.18.2)\n",
            "Requirement already satisfied: seaborn in /usr/local/lib/python3.6/dist-packages (from missingno) (0.10.0)\n",
            "Requirement already satisfied: kiwisolver>=1.0.1 in /usr/local/lib/python3.6/dist-packages (from matplotlib->missingno) (1.2.0)\n",
            "Requirement already satisfied: pyparsing!=2.0.4,!=2.1.2,!=2.1.6,>=2.0.1 in /usr/local/lib/python3.6/dist-packages (from matplotlib->missingno) (2.4.7)\n",
            "Requirement already satisfied: cycler>=0.10 in /usr/local/lib/python3.6/dist-packages (from matplotlib->missingno) (0.10.0)\n",
            "Requirement already satisfied: python-dateutil>=2.1 in /usr/local/lib/python3.6/dist-packages (from matplotlib->missingno) (2.8.1)\n",
            "Requirement already satisfied: pandas>=0.22.0 in /usr/local/lib/python3.6/dist-packages (from seaborn->missingno) (1.0.3)\n",
            "Requirement already satisfied: six in /usr/local/lib/python3.6/dist-packages (from cycler>=0.10->matplotlib->missingno) (1.12.0)\n",
            "Requirement already satisfied: pytz>=2017.2 in /usr/local/lib/python3.6/dist-packages (from pandas>=0.22.0->seaborn->missingno) (2018.9)\n"
          ],
          "name": "stdout"
        },
        {
          "output_type": "stream",
          "text": [
            "/usr/local/lib/python3.6/dist-packages/statsmodels/tools/_testing.py:19: FutureWarning: pandas.util.testing is deprecated. Use the functions in the public API at pandas.testing instead.\n",
            "  import pandas.util.testing as tm\n"
          ],
          "name": "stderr"
        }
      ]
    },
    {
      "cell_type": "code",
      "metadata": {
        "id": "_1vpKCu-3dqH",
        "colab_type": "code",
        "colab": {}
      },
      "source": [
        "df = pd.read_csv(io.BytesIO(uploaded['HRDataset_v13.csv']))\n",
        "# Dataset is now stored in a Pandas Dataframe\n",
        "\n",
        "#Drop all the rows containing nothing but missing values\n",
        "#I also checked for duplicates using df = df.drop_duplicates() but there are none after dropping empty rows\n",
        "df = df.dropna(how = \"all\")\n",
        "\n",
        "#Going to fill in the missing values with 0. There are 4 features this will change: DateofTermination (66.8%), ManagerID(2.65%), LastPerformanceReview_Date(33.2%), DaysLateLast30(33.2%)\n",
        "#This will really clean up the data! I didn't think it would be as easy as dropping the extra rows and filling i\n",
        "df = df.fillna(0)\n",
        "\n",
        "#Changing DOB to datetime then float\n",
        "df['DOB'] = pd.to_datetime(df['DOB'])\n",
        "df['DOB'] = df['DOB'].values.astype(float)\n",
        "\n",
        "#Changing LastPerformanceReview_Date to datetime then float\n",
        "df['LastPerformanceReview_Date'] = pd.to_datetime(df['LastPerformanceReview_Date'])\n",
        "df['LastPerformanceReview_Date'] = df['LastPerformanceReview_Date'].values.astype(float)\n",
        "\n",
        "#Changing DateofHire to datetime then float\n",
        "df['DateofHire'] = pd.to_datetime(df['DateofHire'])\n",
        "df['DateofHire'] = df['DateofHire'].values.astype(float)\n",
        "\n",
        "#Changing DateofTermination to datetime then float\n",
        "df['DateofTermination'] = pd.to_datetime(df['DateofTermination'])\n",
        "df['DateofTermination'] = df['DateofTermination'].values.astype(float)"
      ],
      "execution_count": 0,
      "outputs": []
    },
    {
      "cell_type": "code",
      "metadata": {
        "id": "4FWddz-SY6Kb",
        "colab_type": "code",
        "colab": {}
      },
      "source": [
        "#array(['US Citizen', 'Eligible NonCitizen', 'Non-Citizen'], dtype=object)\n",
        "#array(['No', 'Yes', 'yes', 'no'], dtype=object)\n",
        "#array(['N/A - still employed', 0, 'career change', 'Another position',\n",
        "       #'attendance', 'relocation out of area',\n",
        "       #'N/A - Has not started yet', 'performance', 'no-call, no-show',\n",
        "       #'hours', 'medical issues', 'retiring', 'unhappy', 'more money',\n",
        "       #'return to school', 'gross misconduct', 'military',\n",
        "       #'maternity leave - did not return'], dtype=object)\n",
        "#array(['Active', 'Terminated for Cause', 'Voluntarily Terminated',\n",
        "       #'Future Start', 'Leave of Absence'], dtype=object)\n",
        "#array(['MA', 'VA', 'VT', 'WA', 'NH', 'NY', 'OH', 'ID', 'TN', 'UT', 'AL',\n",
        "       #'NC', 'MT', 'AZ', 'ME', 'CA', 'CT', 'IN', 'NV', 'CO', 'TX', 'GA',\n",
        "       #'FL', 'KY', 'ND', 'OR', 'RI', 'PA'], dtype=object)\n",
        "\n",
        "\n",
        "def tweak_set(df):\n",
        "  \n",
        "  EmpID = (df.EmpID.astype(int))\n",
        "  MarriedID = (df.MarriedID.astype(int))\n",
        "  MaritalStatusID = (df.MaritalStatusID.astype(int))\n",
        "  GenderID = (df.GenderID.astype(int))\n",
        "  EmpStatusID = (df.EmpStatusID.astype(int))\n",
        "  DeptID = (df.DeptID.astype(int))\n",
        "  PerfScoreID = (df.PerfScoreID.astype(int))\n",
        "  FromDiversityJobFairID = (df.FromDiversityJobFairID.astype(int))\n",
        "  PayRate = (df.PayRate.astype(int))\n",
        "  Termd = (df.Termd.astype(int))\n",
        "  PositionID = (df.PositionID.astype(int))\n",
        "  State = (df.State\n",
        "           .replace({'DE':1,\n",
        "                     'PA':2,\n",
        "                     'NJ':3,\n",
        "                     'GA':4,\n",
        "                     'CT':5,\n",
        "                     'MA':6,\n",
        "                     'MD':7,\n",
        "                     'SC':8,\n",
        "                     'NH':9,\n",
        "                     'VA':10,\n",
        "                     'NY':11,\n",
        "                     'NC':12,\n",
        "                     'RI':13,\n",
        "                     'VT':14,\n",
        "                     'KY':15,\n",
        "                     'TN':16,\n",
        "                     'OH':17,\n",
        "                     'LA':18,\n",
        "                     'IN':19,\n",
        "                     'MS':20,\n",
        "                     'IL':21,\n",
        "                     'AL':22,\n",
        "                     'ME':23,\n",
        "                     'MO':24,\n",
        "                     'AR':25,\n",
        "                     'MI':26,\n",
        "                     'FL':27,\n",
        "                     'TX':28,\n",
        "                     'IA':29,\n",
        "                     'WI':30,\n",
        "                     'CA':31,\n",
        "                     'MN':32,\n",
        "                     'OR':33,\n",
        "                     'KS':34,\n",
        "                     'WV':35,\n",
        "                     'NV':36,\n",
        "                     'NE':37,\n",
        "                     'CO':38,\n",
        "                     'ND':39,\n",
        "                     'SD':40,\n",
        "                     'MT':41,\n",
        "                     'WA':42,\n",
        "                     'ID':43,\n",
        "                     'WY':44,\n",
        "                     'UT':45,\n",
        "                     'OK':46,\n",
        "                     'NM':47,\n",
        "                     'AZ':48,\n",
        "                     'AK':49,\n",
        "                     'HI':50})\n",
        "           .astype(int))\n",
        "  Zip = (df.Zip.astype(int))\n",
        "  DOB = (df.DOB.astype(int))\n",
        "  DateofHire = (df.DateofHire.astype(int))\n",
        "  DateofTermination = (df.DateofTermination.astype(int))\n",
        "  ManagerID = (df.ManagerID.astype(int))\n",
        "  EngagementSurvey = (df.EngagementSurvey.astype(int))\n",
        "  EmpSatisfaction = (df.EmpSatisfaction.astype(int))\n",
        "  SpecialProjectsCount = (df.SpecialProjectsCount.astype(int))\n",
        "  LastPerformanceReview_Date = (df.LastPerformanceReview_Date.astype(int))\n",
        "  \n",
        "  return pd.concat([EmpID, MarriedID, MaritalStatusID, GenderID, EmpStatusID, DeptID, PerfScoreID, FromDiversityJobFairID,  PayRate, Termd, PositionID, State,  Zip, DOB, DateofHire, DateofTermination, ManagerID, EngagementSurvey, EmpSatisfaction, SpecialProjectsCount, LastPerformanceReview_Date], axis=1)\n",
        "\n",
        "df = tweak_set(df) \n",
        "\n",
        "#df.EmpStatusID.unique()"
      ],
      "execution_count": 0,
      "outputs": []
    },
    {
      "cell_type": "code",
      "metadata": {
        "id": "R8gVmUK8kiFI",
        "colab_type": "code",
        "colab": {}
      },
      "source": [
        ""
      ],
      "execution_count": 0,
      "outputs": []
    },
    {
      "cell_type": "code",
      "metadata": {
        "id": "J_DsFvndI925",
        "colab_type": "code",
        "outputId": "961f545d-32a4-4e6a-9358-b0f5fbcf18c4",
        "colab": {
          "base_uri": "https://localhost:8080/",
          "height": 168
        }
      },
      "source": [
        "sns.heatmap(df.corr().sort_values(by = ['PayRate']), cmap = sns.diverging_palette(240, 10, n=9))\n",
        "#test"
      ],
      "execution_count": 1,
      "outputs": [
        {
          "output_type": "error",
          "ename": "NameError",
          "evalue": "ignored",
          "traceback": [
            "\u001b[0;31m---------------------------------------------------------------------------\u001b[0m",
            "\u001b[0;31mNameError\u001b[0m                                 Traceback (most recent call last)",
            "\u001b[0;32m<ipython-input-1-353c65f5afb8>\u001b[0m in \u001b[0;36m<module>\u001b[0;34m()\u001b[0m\n\u001b[0;32m----> 1\u001b[0;31m \u001b[0msns\u001b[0m\u001b[0;34m.\u001b[0m\u001b[0mheatmap\u001b[0m\u001b[0;34m(\u001b[0m\u001b[0mdf\u001b[0m\u001b[0;34m.\u001b[0m\u001b[0mcorr\u001b[0m\u001b[0;34m(\u001b[0m\u001b[0;34m)\u001b[0m\u001b[0;34m.\u001b[0m\u001b[0msort_values\u001b[0m\u001b[0;34m(\u001b[0m\u001b[0mby\u001b[0m \u001b[0;34m=\u001b[0m \u001b[0;34m[\u001b[0m\u001b[0;34m'PayRate'\u001b[0m\u001b[0;34m]\u001b[0m\u001b[0;34m)\u001b[0m\u001b[0;34m,\u001b[0m \u001b[0mcmap\u001b[0m \u001b[0;34m=\u001b[0m \u001b[0msns\u001b[0m\u001b[0;34m.\u001b[0m\u001b[0mdiverging_palette\u001b[0m\u001b[0;34m(\u001b[0m\u001b[0;36m240\u001b[0m\u001b[0;34m,\u001b[0m \u001b[0;36m10\u001b[0m\u001b[0;34m,\u001b[0m \u001b[0mn\u001b[0m\u001b[0;34m=\u001b[0m\u001b[0;36m9\u001b[0m\u001b[0;34m)\u001b[0m\u001b[0;34m)\u001b[0m\u001b[0;34m\u001b[0m\u001b[0;34m\u001b[0m\u001b[0m\n\u001b[0m",
            "\u001b[0;31mNameError\u001b[0m: name 'sns' is not defined"
          ]
        }
      ]
    },
    {
      "cell_type": "code",
      "metadata": {
        "id": "nltmLqFAbbyA",
        "colab_type": "code",
        "outputId": "1252d2b8-8a48-4d04-8852-180223dbd843",
        "colab": {
          "base_uri": "https://localhost:8080/",
          "height": 282
        }
      },
      "source": [
        "\n",
        "df.MarriedID.value_counts(dropna=False).plot(kind='bar')"
      ],
      "execution_count": 0,
      "outputs": [
        {
          "output_type": "execute_result",
          "data": {
            "text/plain": [
              "<matplotlib.axes._subplots.AxesSubplot at 0x7f7d11faf860>"
            ]
          },
          "metadata": {
            "tags": []
          },
          "execution_count": 91
        },
        {
          "output_type": "display_data",
          "data": {
            "image/png": "[encoded data removed]",
            "text/plain": [
              "<Figure size 432x288 with 1 Axes>"
            ]
          },
          "metadata": {
            "tags": [],
            "needs_background": "light"
          }
        }
      ]
    },
    {
      "cell_type": "code",
      "metadata": {
        "id": "E5-9Uomc1jYu",
        "colab_type": "code",
        "outputId": "27a590a3-29b7-4e6d-dbab-bd99e42dc0a3",
        "colab": {
          "base_uri": "https://localhost:8080/",
          "height": 282
        }
      },
      "source": [
        "df.MaritalStatusID.value_counts(dropna=False).plot(kind='bar')"
      ],
      "execution_count": 0,
      "outputs": [
        {
          "output_type": "execute_result",
          "data": {
            "text/plain": [
              "<matplotlib.axes._subplots.AxesSubplot at 0x7f7d118f27f0>"
            ]
          },
          "metadata": {
            "tags": []
          },
          "execution_count": 92
        },
        {
          "output_type": "display_data",
          "data": {
            "image/png": "[encoded data removed]",
            "text/plain": [
              "<Figure size 432x288 with 1 Axes>"
            ]
          },
          "metadata": {
            "tags": [],
            "needs_background": "light"
          }
        }
      ]
    },
    {
      "cell_type": "code",
      "metadata": {
        "id": "6yNH1fkS1qs6",
        "colab_type": "code",
        "outputId": "9358734d-70bc-49a0-d3c3-0e6f5f5e1779",
        "colab": {
          "base_uri": "https://localhost:8080/",
          "height": 282
        }
      },
      "source": [
        "df.GenderID.value_counts(dropna=False).plot(kind='bar')"
      ],
      "execution_count": 0,
      "outputs": [
        {
          "output_type": "execute_result",
          "data": {
            "text/plain": [
              "<matplotlib.axes._subplots.AxesSubplot at 0x7f7d118186a0>"
            ]
          },
          "metadata": {
            "tags": []
          },
          "execution_count": 93
        },
        {
          "output_type": "display_data",
          "data": {
            "image/png": "[encoded data removed]",
            "text/plain": [
              "<Figure size 432x288 with 1 Axes>"
            ]
          },
          "metadata": {
            "tags": [],
            "needs_background": "light"
          }
        }
      ]
    },
    {
      "cell_type": "code",
      "metadata": {
        "id": "S_zQTTMp14Lm",
        "colab_type": "code",
        "outputId": "cc1850c7-e0be-4637-9792-9b91d1d18ed1",
        "colab": {
          "base_uri": "https://localhost:8080/",
          "height": 282
        }
      },
      "source": [
        "df.EmpStatusID.value_counts(dropna=False).plot(kind='bar')"
      ],
      "execution_count": 0,
      "outputs": [
        {
          "output_type": "execute_result",
          "data": {
            "text/plain": [
              "<matplotlib.axes._subplots.AxesSubplot at 0x7f7d11789ba8>"
            ]
          },
          "metadata": {
            "tags": []
          },
          "execution_count": 94
        },
        {
          "output_type": "display_data",
          "data": {
            "image/png": "[encoded data removed]",
            "text/plain": [
              "<Figure size 432x288 with 1 Axes>"
            ]
          },
          "metadata": {
            "tags": [],
            "needs_background": "light"
          }
        }
      ]
    },
    {
      "cell_type": "code",
      "metadata": {
        "id": "5Nu21xrw18Kv",
        "colab_type": "code",
        "outputId": "9ec0bef8-a5a0-415b-c073-de38b85b36d5",
        "colab": {
          "base_uri": "https://localhost:8080/",
          "height": 282
        }
      },
      "source": [
        "df.DeptID.value_counts(dropna=False).plot(kind='bar')"
      ],
      "execution_count": 0,
      "outputs": [
        {
          "output_type": "execute_result",
          "data": {
            "text/plain": [
              "<matplotlib.axes._subplots.AxesSubplot at 0x7f7d116f74e0>"
            ]
          },
          "metadata": {
            "tags": []
          },
          "execution_count": 95
        },
        {
          "output_type": "display_data",
          "data": {
            "image/png": "[encoded data removed]",
            "text/plain": [
              "<Figure size 432x288 with 1 Axes>"
            ]
          },
          "metadata": {
            "tags": [],
            "needs_background": "light"
          }
        }
      ]
    },
    {
      "cell_type": "code",
      "metadata": {
        "id": "LJVHJryf2Cql",
        "colab_type": "code",
        "outputId": "f6377085-41aa-429b-b5b6-f7dff89a982c",
        "colab": {
          "base_uri": "https://localhost:8080/",
          "height": 282
        }
      },
      "source": [
        "df.PerfScoreID.value_counts(dropna=False).plot(kind='bar')"
      ],
      "execution_count": 0,
      "outputs": [
        {
          "output_type": "execute_result",
          "data": {
            "text/plain": [
              "<matplotlib.axes._subplots.AxesSubplot at 0x7f7d116d68d0>"
            ]
          },
          "metadata": {
            "tags": []
          },
          "execution_count": 96
        },
        {
          "output_type": "display_data",
          "data": {
            "image/png": "[encoded data removed]",
            "text/plain": [
              "<Figure size 432x288 with 1 Axes>"
            ]
          },
          "metadata": {
            "tags": [],
            "needs_background": "light"
          }
        }
      ]
    },
    {
      "cell_type": "code",
      "metadata": {
        "id": "TNzIm2Vl2IX-",
        "colab_type": "code",
        "outputId": "2efd89b7-f9b9-4d9b-fb74-1a66690c3907",
        "colab": {
          "base_uri": "https://localhost:8080/",
          "height": 282
        }
      },
      "source": [
        "df.FromDiversityJobFairID.value_counts(dropna=False).plot(kind='bar')"
      ],
      "execution_count": 0,
      "outputs": [
        {
          "output_type": "execute_result",
          "data": {
            "text/plain": [
              "<matplotlib.axes._subplots.AxesSubplot at 0x7f7d1165c4e0>"
            ]
          },
          "metadata": {
            "tags": []
          },
          "execution_count": 97
        },
        {
          "output_type": "display_data",
          "data": {
            "image/png": "[encoded data removed]",
            "text/plain": [
              "<Figure size 432x288 with 1 Axes>"
            ]
          },
          "metadata": {
            "tags": [],
            "needs_background": "light"
          }
        }
      ]
    },
    {
      "cell_type": "code",
      "metadata": {
        "id": "QruWzzxfPLdr",
        "colab_type": "code",
        "outputId": "e6bc4b8c-7814-4cbd-cb66-4ab36772f7fb",
        "colab": {
          "base_uri": "https://localhost:8080/",
          "height": 288
        }
      },
      "source": [
        "df.PayRate.value_counts(dropna=False).plot(kind='bar')"
      ],
      "execution_count": 0,
      "outputs": [
        {
          "output_type": "execute_result",
          "data": {
            "text/plain": [
              "<matplotlib.axes._subplots.AxesSubplot at 0x7f7d115c1828>"
            ]
          },
          "metadata": {
            "tags": []
          },
          "execution_count": 98
        },
        {
          "output_type": "display_data",
          "data": {
            "image/png": "[encoded data removed]",
            "text/plain": [
              "<Figure size 432x288 with 1 Axes>"
            ]
          },
          "metadata": {
            "tags": [],
            "needs_background": "light"
          }
        }
      ]
    },
    {
      "cell_type": "code",
      "metadata": {
        "id": "qb6-yzSc2aeU",
        "colab_type": "code",
        "outputId": "955bc95f-b97f-45aa-babe-b0dbdd14a22d",
        "colab": {
          "base_uri": "https://localhost:8080/",
          "height": 282
        }
      },
      "source": [
        "df.Termd.value_counts(dropna=False).plot(kind='bar')"
      ],
      "execution_count": 0,
      "outputs": [
        {
          "output_type": "execute_result",
          "data": {
            "text/plain": [
              "<matplotlib.axes._subplots.AxesSubplot at 0x7f7d115c1e48>"
            ]
          },
          "metadata": {
            "tags": []
          },
          "execution_count": 99
        },
        {
          "output_type": "display_data",
          "data": {
            "image/png": "[encoded data removed]",
            "text/plain": [
              "<Figure size 432x288 with 1 Axes>"
            ]
          },
          "metadata": {
            "tags": [],
            "needs_background": "light"
          }
        }
      ]
    },
    {
      "cell_type": "code",
      "metadata": {
        "id": "Yo675atQ8fcG",
        "colab_type": "code",
        "outputId": "dfe11800-4ac6-4f28-9f7a-1828505665f0",
        "colab": {
          "base_uri": "https://localhost:8080/",
          "height": 287
        }
      },
      "source": [
        " df.PositionID.value_counts(dropna=False).plot(kind='bar')"
      ],
      "execution_count": 0,
      "outputs": [
        {
          "output_type": "execute_result",
          "data": {
            "text/plain": [
              "<matplotlib.axes._subplots.AxesSubplot at 0x7f7d114720b8>"
            ]
          },
          "metadata": {
            "tags": []
          },
          "execution_count": 100
        },
        {
          "output_type": "display_data",
          "data": {
            "image/png": "[encoded data removed]",
            "text/plain": [
              "<Figure size 432x288 with 1 Axes>"
            ]
          },
          "metadata": {
            "tags": [],
            "needs_background": "light"
          }
        }
      ]
    },
    {
      "cell_type": "code",
      "metadata": {
        "id": "HGYUE0PX2wkF",
        "colab_type": "code",
        "outputId": "289d7ecb-e7f1-4377-c4f5-c25517e89e4f",
        "colab": {
          "base_uri": "https://localhost:8080/",
          "height": 287
        }
      },
      "source": [
        " df.State.value_counts(dropna=False).plot(kind='bar')"
      ],
      "execution_count": 0,
      "outputs": [
        {
          "output_type": "execute_result",
          "data": {
            "text/plain": [
              "<matplotlib.axes._subplots.AxesSubplot at 0x7f7d11345198>"
            ]
          },
          "metadata": {
            "tags": []
          },
          "execution_count": 101
        },
        {
          "output_type": "display_data",
          "data": {
            "image/png": "[encoded data removed]",
            "text/plain": [
              "<Figure size 432x288 with 1 Axes>"
            ]
          },
          "metadata": {
            "tags": [],
            "needs_background": "light"
          }
        }
      ]
    },
    {
      "cell_type": "code",
      "metadata": {
        "id": "kQd8Or5v26t3",
        "colab_type": "code",
        "outputId": "299cd1ab-b6a4-453c-eecc-63d6cdbf62ba",
        "colab": {
          "base_uri": "https://localhost:8080/",
          "height": 304
        }
      },
      "source": [
        " df.Zip.value_counts(dropna=False).plot(kind='bar')"
      ],
      "execution_count": 0,
      "outputs": [
        {
          "output_type": "execute_result",
          "data": {
            "text/plain": [
              "<matplotlib.axes._subplots.AxesSubplot at 0x7f7d117f04e0>"
            ]
          },
          "metadata": {
            "tags": []
          },
          "execution_count": 102
        },
        {
          "output_type": "display_data",
          "data": {
            "image/png": "[encoded data removed]",
            "text/plain": [
              "<Figure size 432x288 with 1 Axes>"
            ]
          },
          "metadata": {
            "tags": [],
            "needs_background": "light"
          }
        }
      ]
    },
    {
      "cell_type": "code",
      "metadata": {
        "id": "DK3aohmB277l",
        "colab_type": "code",
        "outputId": "e4954d23-ef3c-4dd8-9002-fa32736c2268",
        "colab": {
          "base_uri": "https://localhost:8080/",
          "height": 383
        }
      },
      "source": [
        " df.DateofHire.value_counts(dropna=False).plot(kind='bar')"
      ],
      "execution_count": 0,
      "outputs": [
        {
          "output_type": "execute_result",
          "data": {
            "text/plain": [
              "<matplotlib.axes._subplots.AxesSubplot at 0x7f7d1147d208>"
            ]
          },
          "metadata": {
            "tags": []
          },
          "execution_count": 103
        },
        {
          "output_type": "display_data",
          "data": {
            "image/png": "[encoded data removed]",
            "text/plain": [
              "<Figure size 432x288 with 1 Axes>"
            ]
          },
          "metadata": {
            "tags": [],
            "needs_background": "light"
          }
        }
      ]
    },
    {
      "cell_type": "code",
      "metadata": {
        "id": "vda5bMi_3QwB",
        "colab_type": "code",
        "outputId": "00801bf9-82eb-49e2-a523-419a82c11752",
        "colab": {
          "base_uri": "https://localhost:8080/",
          "height": 287
        }
      },
      "source": [
        "df.ManagerID.value_counts(dropna=False).plot(kind='bar')"
      ],
      "execution_count": 0,
      "outputs": [
        {
          "output_type": "execute_result",
          "data": {
            "text/plain": [
              "<matplotlib.axes._subplots.AxesSubplot at 0x7f7d10bbe588>"
            ]
          },
          "metadata": {
            "tags": []
          },
          "execution_count": 104
        },
        {
          "output_type": "display_data",
          "data": {
            "image/png": "[encoded data removed]",
            "text/plain": [
              "<Figure size 432x288 with 1 Axes>"
            ]
          },
          "metadata": {
            "tags": [],
            "needs_background": "light"
          }
        }
      ]
    },
    {
      "cell_type": "code",
      "metadata": {
        "id": "Bw2dVpl53d4A",
        "colab_type": "code",
        "outputId": "cd542fd8-0d24-43e3-8a9e-15c74c5b66f3",
        "colab": {
          "base_uri": "https://localhost:8080/",
          "height": 282
        }
      },
      "source": [
        "df.EngagementSurvey.value_counts(dropna=False).plot(kind='bar')"
      ],
      "execution_count": 0,
      "outputs": [
        {
          "output_type": "execute_result",
          "data": {
            "text/plain": [
              "<matplotlib.axes._subplots.AxesSubplot at 0x7f7d10b570b8>"
            ]
          },
          "metadata": {
            "tags": []
          },
          "execution_count": 105
        },
        {
          "output_type": "display_data",
          "data": {
            "image/png": "[encoded data removed]",
            "text/plain": [
              "<Figure size 432x288 with 1 Axes>"
            ]
          },
          "metadata": {
            "tags": [],
            "needs_background": "light"
          }
        }
      ]
    },
    {
      "cell_type": "code",
      "metadata": {
        "id": "S26cm48d3m4Y",
        "colab_type": "code",
        "outputId": "9808858b-91dd-4b15-8c91-eeb2c6841589",
        "colab": {
          "base_uri": "https://localhost:8080/",
          "height": 282
        }
      },
      "source": [
        "df.EmpSatisfaction.value_counts(dropna=False).plot(kind='bar')"
      ],
      "execution_count": 0,
      "outputs": [
        {
          "output_type": "execute_result",
          "data": {
            "text/plain": [
              "<matplotlib.axes._subplots.AxesSubplot at 0x7f7d10ac1048>"
            ]
          },
          "metadata": {
            "tags": []
          },
          "execution_count": 106
        },
        {
          "output_type": "display_data",
          "data": {
            "image/png": "[encoded data removed]",
            "text/plain": [
              "<Figure size 432x288 with 1 Axes>"
            ]
          },
          "metadata": {
            "tags": [],
            "needs_background": "light"
          }
        }
      ]
    },
    {
      "cell_type": "code",
      "metadata": {
        "id": "B70gIsO03vzG",
        "colab_type": "code",
        "outputId": "77e1ea2c-9944-4bb6-d0c6-c08a0b290578",
        "colab": {
          "base_uri": "https://localhost:8080/",
          "height": 282
        }
      },
      "source": [
        "df.SpecialProjectsCount.value_counts(dropna=False).plot(kind='bar')"
      ],
      "execution_count": 0,
      "outputs": [
        {
          "output_type": "execute_result",
          "data": {
            "text/plain": [
              "<matplotlib.axes._subplots.AxesSubplot at 0x7f7d10aa95f8>"
            ]
          },
          "metadata": {
            "tags": []
          },
          "execution_count": 107
        },
        {
          "output_type": "display_data",
          "data": {
            "image/png": "[encoded data removed]",
            "text/plain": [
              "<Figure size 432x288 with 1 Axes>"
            ]
          },
          "metadata": {
            "tags": [],
            "needs_background": "light"
          }
        }
      ]
    },
    {
      "cell_type": "code",
      "metadata": {
        "id": "lfukDERN34u4",
        "colab_type": "code",
        "outputId": "c4db802f-f6b2-4eb3-e582-626f67b0c121",
        "colab": {
          "base_uri": "https://localhost:8080/",
          "height": 383
        }
      },
      "source": [
        "df.LastPerformanceReview_Date.value_counts(dropna=False).plot(kind='bar')"
      ],
      "execution_count": 0,
      "outputs": [
        {
          "output_type": "execute_result",
          "data": {
            "text/plain": [
              "<matplotlib.axes._subplots.AxesSubplot at 0x7f7d109bb0b8>"
            ]
          },
          "metadata": {
            "tags": []
          },
          "execution_count": 108
        },
        {
          "output_type": "display_data",
          "data": {
            "image/png": "[encoded data removed]",
            "text/plain": [
              "<Figure size 432x288 with 1 Axes>"
            ]
          },
          "metadata": {
            "tags": [],
            "needs_background": "light"
          }
        }
      ]
    },
    {
      "cell_type": "code",
      "metadata": {
        "id": "uOYdtgxo4WHT",
        "colab_type": "code",
        "outputId": "0073ab48-081f-4609-b8a7-f72af4d1b931",
        "colab": {
          "base_uri": "https://localhost:8080/",
          "height": 426
        }
      },
      "source": [
        "#ANALYSIS PART 1 (Principal Component Analysis)\n",
        "#PCA - passing in rows of features, new dataset will be the embeddings (linear combinations of columns that maximize the variance) \n",
        "#Reduces the dimensionality of the data\n",
        "#Code below standardizes the data\n",
        "X = df\n",
        "std = preprocessing.StandardScaler()\n",
        "X_std = pd.DataFrame(std.fit_transform(X), columns=X.columns)\n",
        "X_std"
      ],
      "execution_count": 0,
      "outputs": [
        {
          "output_type": "execute_result",
          "data": {
            "text/html": [
              "<div>\n",
              "<style scoped>\n",
              "    .dataframe tbody tr th:only-of-type {\n",
              "        vertical-align: middle;\n",
              "    }\n",
              "\n",
              "    .dataframe tbody tr th {\n",
              "        vertical-align: top;\n",
              "    }\n",
              "\n",
              "    .dataframe thead th {\n",
              "        text-align: right;\n",
              "    }\n",
              "</style>\n",
              "<table border=\"1\" class=\"dataframe\">\n",
              "  <thead>\n",
              "    <tr style=\"text-align: right;\">\n",
              "      <th></th>\n",
              "      <th>EmpID</th>\n",
              "      <th>MarriedID</th>\n",
              "      <th>MaritalStatusID</th>\n",
              "      <th>GenderID</th>\n",
              "      <th>EmpStatusID</th>\n",
              "      <th>DeptID</th>\n",
              "      <th>PerfScoreID</th>\n",
              "      <th>FromDiversityJobFairID</th>\n",
              "      <th>PayRate</th>\n",
              "      <th>Termd</th>\n",
              "      <th>PositionID</th>\n",
              "      <th>State</th>\n",
              "      <th>Zip</th>\n",
              "      <th>DOB</th>\n",
              "      <th>DateofHire</th>\n",
              "      <th>DateofTermination</th>\n",
              "      <th>ManagerID</th>\n",
              "      <th>EngagementSurvey</th>\n",
              "      <th>EmpSatisfaction</th>\n",
              "      <th>SpecialProjectsCount</th>\n",
              "      <th>LastPerformanceReview_Date</th>\n",
              "    </tr>\n",
              "  </thead>\n",
              "  <tbody>\n",
              "    <tr>\n",
              "      <th>0</th>\n",
              "      <td>-0.529500</td>\n",
              "      <td>1.233015</td>\n",
              "      <td>0.201789</td>\n",
              "      <td>-0.866840</td>\n",
              "      <td>-0.779174</td>\n",
              "      <td>-3.337447</td>\n",
              "      <td>0.027992</td>\n",
              "      <td>3.112821</td>\n",
              "      <td>-0.208235</td>\n",
              "      <td>-0.705397</td>\n",
              "      <td>-2.545511</td>\n",
              "      <td>-0.254903</td>\n",
              "      <td>-0.302826</td>\n",
              "      <td>-0.230410</td>\n",
              "      <td>-2.203513</td>\n",
              "      <td>-0.704604</td>\n",
              "      <td>-1.590665</td>\n",
              "      <td>-0.658608</td>\n",
              "      <td>-2.079060</td>\n",
              "      <td>2.039987</td>\n",
              "      <td>0.703650</td>\n",
              "    </tr>\n",
              "    <tr>\n",
              "      <th>1</th>\n",
              "      <td>-0.513065</td>\n",
              "      <td>-0.811020</td>\n",
              "      <td>1.262035</td>\n",
              "      <td>1.153615</td>\n",
              "      <td>-0.779174</td>\n",
              "      <td>-3.337447</td>\n",
              "      <td>0.027992</td>\n",
              "      <td>-0.321252</td>\n",
              "      <td>-0.534259</td>\n",
              "      <td>-0.705397</td>\n",
              "      <td>-2.545511</td>\n",
              "      <td>-0.254903</td>\n",
              "      <td>-0.302234</td>\n",
              "      <td>-0.348512</td>\n",
              "      <td>0.487433</td>\n",
              "      <td>-0.704604</td>\n",
              "      <td>-1.590665</td>\n",
              "      <td>1.498102</td>\n",
              "      <td>0.120628</td>\n",
              "      <td>1.188275</td>\n",
              "      <td>0.703887</td>\n",
              "    </tr>\n",
              "    <tr>\n",
              "      <th>2</th>\n",
              "      <td>0.560086</td>\n",
              "      <td>-0.811020</td>\n",
              "      <td>-0.858457</td>\n",
              "      <td>1.153615</td>\n",
              "      <td>-0.779174</td>\n",
              "      <td>-3.337447</td>\n",
              "      <td>0.027992</td>\n",
              "      <td>-0.321252</td>\n",
              "      <td>-0.143030</td>\n",
              "      <td>-0.705397</td>\n",
              "      <td>-2.545511</td>\n",
              "      <td>-0.254903</td>\n",
              "      <td>-0.228712</td>\n",
              "      <td>-0.270982</td>\n",
              "      <td>0.864762</td>\n",
              "      <td>-0.704604</td>\n",
              "      <td>-1.590665</td>\n",
              "      <td>0.060295</td>\n",
              "      <td>1.220472</td>\n",
              "      <td>1.614131</td>\n",
              "      <td>0.704006</td>\n",
              "    </tr>\n",
              "    <tr>\n",
              "      <th>3</th>\n",
              "      <td>0.061892</td>\n",
              "      <td>1.233015</td>\n",
              "      <td>0.201789</td>\n",
              "      <td>-0.866840</td>\n",
              "      <td>-0.779174</td>\n",
              "      <td>-3.337447</td>\n",
              "      <td>0.027992</td>\n",
              "      <td>-0.321252</td>\n",
              "      <td>-0.664669</td>\n",
              "      <td>1.417642</td>\n",
              "      <td>-2.384797</td>\n",
              "      <td>-0.254903</td>\n",
              "      <td>-0.260239</td>\n",
              "      <td>-0.302609</td>\n",
              "      <td>1.063356</td>\n",
              "      <td>1.475516</td>\n",
              "      <td>-1.590665</td>\n",
              "      <td>0.060295</td>\n",
              "      <td>-0.979216</td>\n",
              "      <td>1.188275</td>\n",
              "      <td>-1.417640</td>\n",
              "    </tr>\n",
              "    <tr>\n",
              "      <th>4</th>\n",
              "      <td>0.587495</td>\n",
              "      <td>-0.811020</td>\n",
              "      <td>-0.858457</td>\n",
              "      <td>-0.866840</td>\n",
              "      <td>-0.779174</td>\n",
              "      <td>-3.337447</td>\n",
              "      <td>0.027992</td>\n",
              "      <td>-0.321252</td>\n",
              "      <td>-0.990694</td>\n",
              "      <td>-0.705397</td>\n",
              "      <td>-2.384797</td>\n",
              "      <td>-0.254903</td>\n",
              "      <td>-0.250775</td>\n",
              "      <td>-0.214416</td>\n",
              "      <td>1.168327</td>\n",
              "      <td>-0.704604</td>\n",
              "      <td>-1.590665</td>\n",
              "      <td>1.498102</td>\n",
              "      <td>-0.979216</td>\n",
              "      <td>1.614131</td>\n",
              "      <td>0.703650</td>\n",
              "    </tr>\n",
              "    <tr>\n",
              "      <th>...</th>\n",
              "      <td>...</td>\n",
              "      <td>...</td>\n",
              "      <td>...</td>\n",
              "      <td>...</td>\n",
              "      <td>...</td>\n",
              "      <td>...</td>\n",
              "      <td>...</td>\n",
              "      <td>...</td>\n",
              "      <td>...</td>\n",
              "      <td>...</td>\n",
              "      <td>...</td>\n",
              "      <td>...</td>\n",
              "      <td>...</td>\n",
              "      <td>...</td>\n",
              "      <td>...</td>\n",
              "      <td>...</td>\n",
              "      <td>...</td>\n",
              "      <td>...</td>\n",
              "      <td>...</td>\n",
              "      <td>...</td>\n",
              "      <td>...</td>\n",
              "    </tr>\n",
              "    <tr>\n",
              "      <th>305</th>\n",
              "      <td>1.156907</td>\n",
              "      <td>1.233015</td>\n",
              "      <td>0.201789</td>\n",
              "      <td>-0.866840</td>\n",
              "      <td>0.336502</td>\n",
              "      <td>-1.486627</td>\n",
              "      <td>0.027992</td>\n",
              "      <td>-0.321252</td>\n",
              "      <td>1.487092</td>\n",
              "      <td>-0.705397</td>\n",
              "      <td>1.793782</td>\n",
              "      <td>-0.404561</td>\n",
              "      <td>-0.031747</td>\n",
              "      <td>1.886835</td>\n",
              "      <td>0.924340</td>\n",
              "      <td>-0.704604</td>\n",
              "      <td>-0.867812</td>\n",
              "      <td>-1.377512</td>\n",
              "      <td>1.220472</td>\n",
              "      <td>2.891699</td>\n",
              "      <td>0.706966</td>\n",
              "    </tr>\n",
              "    <tr>\n",
              "      <th>306</th>\n",
              "      <td>-0.502107</td>\n",
              "      <td>1.233015</td>\n",
              "      <td>0.201789</td>\n",
              "      <td>1.153615</td>\n",
              "      <td>0.336502</td>\n",
              "      <td>-1.486627</td>\n",
              "      <td>0.027992</td>\n",
              "      <td>-0.321252</td>\n",
              "      <td>1.617502</td>\n",
              "      <td>-0.705397</td>\n",
              "      <td>1.793782</td>\n",
              "      <td>-0.254903</td>\n",
              "      <td>-0.260298</td>\n",
              "      <td>-0.282820</td>\n",
              "      <td>0.924340</td>\n",
              "      <td>-0.704604</td>\n",
              "      <td>-0.867812</td>\n",
              "      <td>0.779199</td>\n",
              "      <td>1.220472</td>\n",
              "      <td>2.039987</td>\n",
              "      <td>0.702703</td>\n",
              "    </tr>\n",
              "    <tr>\n",
              "      <th>307</th>\n",
              "      <td>-1.618988</td>\n",
              "      <td>1.233015</td>\n",
              "      <td>0.201789</td>\n",
              "      <td>1.153615</td>\n",
              "      <td>-0.221336</td>\n",
              "      <td>-1.486627</td>\n",
              "      <td>0.027992</td>\n",
              "      <td>-0.321252</td>\n",
              "      <td>1.421887</td>\n",
              "      <td>-0.705397</td>\n",
              "      <td>1.793782</td>\n",
              "      <td>-0.254903</td>\n",
              "      <td>-0.297207</td>\n",
              "      <td>-0.388452</td>\n",
              "      <td>1.772619</td>\n",
              "      <td>-0.704604</td>\n",
              "      <td>-0.867812</td>\n",
              "      <td>0.060295</td>\n",
              "      <td>0.120628</td>\n",
              "      <td>1.614131</td>\n",
              "      <td>0.703532</td>\n",
              "    </tr>\n",
              "    <tr>\n",
              "      <th>308</th>\n",
              "      <td>0.592975</td>\n",
              "      <td>-0.811020</td>\n",
              "      <td>-0.858457</td>\n",
              "      <td>1.153615</td>\n",
              "      <td>-0.779174</td>\n",
              "      <td>-1.486627</td>\n",
              "      <td>0.027992</td>\n",
              "      <td>-0.321252</td>\n",
              "      <td>1.421887</td>\n",
              "      <td>-0.705397</td>\n",
              "      <td>1.793782</td>\n",
              "      <td>-0.404561</td>\n",
              "      <td>-0.017256</td>\n",
              "      <td>2.337104</td>\n",
              "      <td>0.924340</td>\n",
              "      <td>-0.704604</td>\n",
              "      <td>-0.867812</td>\n",
              "      <td>1.498102</td>\n",
              "      <td>-0.979216</td>\n",
              "      <td>1.188275</td>\n",
              "      <td>0.702111</td>\n",
              "    </tr>\n",
              "    <tr>\n",
              "      <th>309</th>\n",
              "      <td>0.554607</td>\n",
              "      <td>-0.811020</td>\n",
              "      <td>3.382526</td>\n",
              "      <td>-0.866840</td>\n",
              "      <td>-0.779174</td>\n",
              "      <td>-1.486627</td>\n",
              "      <td>0.027992</td>\n",
              "      <td>-0.321252</td>\n",
              "      <td>1.552297</td>\n",
              "      <td>-0.705397</td>\n",
              "      <td>1.793782</td>\n",
              "      <td>-0.254903</td>\n",
              "      <td>-0.243500</td>\n",
              "      <td>-0.546041</td>\n",
              "      <td>1.122934</td>\n",
              "      <td>-0.704604</td>\n",
              "      <td>-0.867812</td>\n",
              "      <td>-1.377512</td>\n",
              "      <td>0.120628</td>\n",
              "      <td>2.891699</td>\n",
              "      <td>0.706137</td>\n",
              "    </tr>\n",
              "  </tbody>\n",
              "</table>\n",
              "<p>310 rows × 21 columns</p>\n",
              "</div>"
            ],
            "text/plain": [
              "        EmpID  MarriedID  ...  SpecialProjectsCount  LastPerformanceReview_Date\n",
              "0   -0.529500   1.233015  ...              2.039987                    0.703650\n",
              "1   -0.513065  -0.811020  ...              1.188275                    0.703887\n",
              "2    0.560086  -0.811020  ...              1.614131                    0.704006\n",
              "3    0.061892   1.233015  ...              1.188275                   -1.417640\n",
              "4    0.587495  -0.811020  ...              1.614131                    0.703650\n",
              "..        ...        ...  ...                   ...                         ...\n",
              "305  1.156907   1.233015  ...              2.891699                    0.706966\n",
              "306 -0.502107   1.233015  ...              2.039987                    0.702703\n",
              "307 -1.618988   1.233015  ...              1.614131                    0.703532\n",
              "308  0.592975  -0.811020  ...              1.188275                    0.702111\n",
              "309  0.554607  -0.811020  ...              2.891699                    0.706137\n",
              "\n",
              "[310 rows x 21 columns]"
            ]
          },
          "metadata": {
            "tags": []
          },
          "execution_count": 109
        }
      ]
    },
    {
      "cell_type": "code",
      "metadata": {
        "id": "dbVLttcY4ZbX",
        "colab_type": "code",
        "outputId": "bdd9946a-048b-4f12-fd90-1add85ae216b",
        "colab": {
          "base_uri": "https://localhost:8080/",
          "height": 406
        }
      },
      "source": [
        "#ANALYSIS PART 1 (Principal Component Analysis)\n",
        "#Make an instance of PCA\n",
        "pca = decomposition.PCA()\n",
        "pca_X = pd.DataFrame(pca.fit_transform(X_std), columns=[f'PC{i+1}' for i in range(len(X.columns))])\n",
        "pca_X"
      ],
      "execution_count": 0,
      "outputs": [
        {
          "output_type": "execute_result",
          "data": {
            "text/html": [
              "<div>\n",
              "<style scoped>\n",
              "    .dataframe tbody tr th:only-of-type {\n",
              "        vertical-align: middle;\n",
              "    }\n",
              "\n",
              "    .dataframe tbody tr th {\n",
              "        vertical-align: top;\n",
              "    }\n",
              "\n",
              "    .dataframe thead th {\n",
              "        text-align: right;\n",
              "    }\n",
              "</style>\n",
              "<table border=\"1\" class=\"dataframe\">\n",
              "  <thead>\n",
              "    <tr style=\"text-align: right;\">\n",
              "      <th></th>\n",
              "      <th>PC1</th>\n",
              "      <th>PC2</th>\n",
              "      <th>PC3</th>\n",
              "      <th>PC4</th>\n",
              "      <th>PC5</th>\n",
              "      <th>PC6</th>\n",
              "      <th>PC7</th>\n",
              "      <th>PC8</th>\n",
              "      <th>PC9</th>\n",
              "      <th>PC10</th>\n",
              "      <th>PC11</th>\n",
              "      <th>PC12</th>\n",
              "      <th>PC13</th>\n",
              "      <th>PC14</th>\n",
              "      <th>PC15</th>\n",
              "      <th>PC16</th>\n",
              "      <th>PC17</th>\n",
              "      <th>PC18</th>\n",
              "      <th>PC19</th>\n",
              "      <th>PC20</th>\n",
              "      <th>PC21</th>\n",
              "    </tr>\n",
              "  </thead>\n",
              "  <tbody>\n",
              "    <tr>\n",
              "      <th>0</th>\n",
              "      <td>-1.596344</td>\n",
              "      <td>-2.051284</td>\n",
              "      <td>2.770144</td>\n",
              "      <td>2.408002</td>\n",
              "      <td>0.485354</td>\n",
              "      <td>-0.345352</td>\n",
              "      <td>0.147901</td>\n",
              "      <td>3.158058</td>\n",
              "      <td>3.267071</td>\n",
              "      <td>-0.611798</td>\n",
              "      <td>-0.285324</td>\n",
              "      <td>-0.520647</td>\n",
              "      <td>-0.106072</td>\n",
              "      <td>2.452414</td>\n",
              "      <td>0.397005</td>\n",
              "      <td>0.569312</td>\n",
              "      <td>0.131053</td>\n",
              "      <td>-0.128090</td>\n",
              "      <td>-0.185750</td>\n",
              "      <td>-0.011245</td>\n",
              "      <td>-0.001292</td>\n",
              "    </tr>\n",
              "    <tr>\n",
              "      <th>1</th>\n",
              "      <td>-2.418278</td>\n",
              "      <td>-2.123340</td>\n",
              "      <td>1.830460</td>\n",
              "      <td>-0.208514</td>\n",
              "      <td>-0.300585</td>\n",
              "      <td>-0.931120</td>\n",
              "      <td>-0.201707</td>\n",
              "      <td>-1.230623</td>\n",
              "      <td>1.719766</td>\n",
              "      <td>1.432650</td>\n",
              "      <td>-0.155838</td>\n",
              "      <td>0.021866</td>\n",
              "      <td>-0.305820</td>\n",
              "      <td>2.733909</td>\n",
              "      <td>-0.632575</td>\n",
              "      <td>-0.470115</td>\n",
              "      <td>1.037933</td>\n",
              "      <td>-0.000626</td>\n",
              "      <td>-0.317709</td>\n",
              "      <td>0.005044</td>\n",
              "      <td>-0.000896</td>\n",
              "    </tr>\n",
              "    <tr>\n",
              "      <th>2</th>\n",
              "      <td>-2.821968</td>\n",
              "      <td>-2.143198</td>\n",
              "      <td>2.085642</td>\n",
              "      <td>-0.597471</td>\n",
              "      <td>0.694406</td>\n",
              "      <td>0.594169</td>\n",
              "      <td>-0.179225</td>\n",
              "      <td>-0.995108</td>\n",
              "      <td>0.250957</td>\n",
              "      <td>0.091533</td>\n",
              "      <td>0.751641</td>\n",
              "      <td>-0.704439</td>\n",
              "      <td>0.205940</td>\n",
              "      <td>2.898078</td>\n",
              "      <td>-0.495032</td>\n",
              "      <td>-0.673886</td>\n",
              "      <td>0.970629</td>\n",
              "      <td>0.001906</td>\n",
              "      <td>-0.331011</td>\n",
              "      <td>0.004411</td>\n",
              "      <td>-0.000651</td>\n",
              "    </tr>\n",
              "    <tr>\n",
              "      <th>3</th>\n",
              "      <td>0.333575</td>\n",
              "      <td>-2.265111</td>\n",
              "      <td>3.177641</td>\n",
              "      <td>0.709826</td>\n",
              "      <td>-0.680418</td>\n",
              "      <td>-1.284892</td>\n",
              "      <td>-0.934015</td>\n",
              "      <td>0.765498</td>\n",
              "      <td>-0.294759</td>\n",
              "      <td>0.312084</td>\n",
              "      <td>0.516709</td>\n",
              "      <td>0.468107</td>\n",
              "      <td>1.342733</td>\n",
              "      <td>2.560627</td>\n",
              "      <td>-0.719718</td>\n",
              "      <td>-0.295746</td>\n",
              "      <td>1.199976</td>\n",
              "      <td>0.131902</td>\n",
              "      <td>1.497554</td>\n",
              "      <td>0.010197</td>\n",
              "      <td>0.000455</td>\n",
              "    </tr>\n",
              "    <tr>\n",
              "      <th>4</th>\n",
              "      <td>-2.606156</td>\n",
              "      <td>-2.239976</td>\n",
              "      <td>1.457953</td>\n",
              "      <td>0.479452</td>\n",
              "      <td>-0.462629</td>\n",
              "      <td>-0.233440</td>\n",
              "      <td>-2.354283</td>\n",
              "      <td>-0.118096</td>\n",
              "      <td>0.909073</td>\n",
              "      <td>0.715748</td>\n",
              "      <td>0.508703</td>\n",
              "      <td>-0.286803</td>\n",
              "      <td>1.385138</td>\n",
              "      <td>2.832728</td>\n",
              "      <td>-0.270059</td>\n",
              "      <td>-0.344485</td>\n",
              "      <td>0.678279</td>\n",
              "      <td>-0.003649</td>\n",
              "      <td>-0.334209</td>\n",
              "      <td>0.014751</td>\n",
              "      <td>-0.001179</td>\n",
              "    </tr>\n",
              "    <tr>\n",
              "      <th>...</th>\n",
              "      <td>...</td>\n",
              "      <td>...</td>\n",
              "      <td>...</td>\n",
              "      <td>...</td>\n",
              "      <td>...</td>\n",
              "      <td>...</td>\n",
              "      <td>...</td>\n",
              "      <td>...</td>\n",
              "      <td>...</td>\n",
              "      <td>...</td>\n",
              "      <td>...</td>\n",
              "      <td>...</td>\n",
              "      <td>...</td>\n",
              "      <td>...</td>\n",
              "      <td>...</td>\n",
              "      <td>...</td>\n",
              "      <td>...</td>\n",
              "      <td>...</td>\n",
              "      <td>...</td>\n",
              "      <td>...</td>\n",
              "      <td>...</td>\n",
              "    </tr>\n",
              "    <tr>\n",
              "      <th>305</th>\n",
              "      <td>-1.666164</td>\n",
              "      <td>-2.255635</td>\n",
              "      <td>1.270948</td>\n",
              "      <td>1.373376</td>\n",
              "      <td>2.201691</td>\n",
              "      <td>-0.525497</td>\n",
              "      <td>-0.241483</td>\n",
              "      <td>0.244790</td>\n",
              "      <td>-2.457481</td>\n",
              "      <td>-0.282920</td>\n",
              "      <td>0.683544</td>\n",
              "      <td>-0.085202</td>\n",
              "      <td>-0.841944</td>\n",
              "      <td>-1.272866</td>\n",
              "      <td>1.678509</td>\n",
              "      <td>-0.887679</td>\n",
              "      <td>-0.623985</td>\n",
              "      <td>-0.262962</td>\n",
              "      <td>-0.698788</td>\n",
              "      <td>-0.013671</td>\n",
              "      <td>0.000893</td>\n",
              "    </tr>\n",
              "    <tr>\n",
              "      <th>306</th>\n",
              "      <td>-1.608853</td>\n",
              "      <td>-2.596355</td>\n",
              "      <td>1.247894</td>\n",
              "      <td>-0.355801</td>\n",
              "      <td>-0.032708</td>\n",
              "      <td>-0.758260</td>\n",
              "      <td>0.602383</td>\n",
              "      <td>-1.258471</td>\n",
              "      <td>-0.280734</td>\n",
              "      <td>-0.502991</td>\n",
              "      <td>0.598719</td>\n",
              "      <td>-0.276036</td>\n",
              "      <td>-0.929795</td>\n",
              "      <td>-1.874773</td>\n",
              "      <td>1.047877</td>\n",
              "      <td>-0.813842</td>\n",
              "      <td>-0.181148</td>\n",
              "      <td>0.023853</td>\n",
              "      <td>-0.704265</td>\n",
              "      <td>-0.008391</td>\n",
              "      <td>-0.001903</td>\n",
              "    </tr>\n",
              "    <tr>\n",
              "      <th>307</th>\n",
              "      <td>-1.944214</td>\n",
              "      <td>-2.767694</td>\n",
              "      <td>1.121398</td>\n",
              "      <td>-0.141374</td>\n",
              "      <td>-0.865170</td>\n",
              "      <td>-0.223808</td>\n",
              "      <td>1.047492</td>\n",
              "      <td>-0.545756</td>\n",
              "      <td>-0.312415</td>\n",
              "      <td>-0.043961</td>\n",
              "      <td>0.249331</td>\n",
              "      <td>0.785383</td>\n",
              "      <td>-0.358820</td>\n",
              "      <td>-2.135156</td>\n",
              "      <td>0.696079</td>\n",
              "      <td>-0.690057</td>\n",
              "      <td>0.172027</td>\n",
              "      <td>0.084989</td>\n",
              "      <td>-0.228811</td>\n",
              "      <td>0.013091</td>\n",
              "      <td>-0.001256</td>\n",
              "    </tr>\n",
              "    <tr>\n",
              "      <th>308</th>\n",
              "      <td>-2.012130</td>\n",
              "      <td>-1.590544</td>\n",
              "      <td>0.425522</td>\n",
              "      <td>1.634305</td>\n",
              "      <td>0.555552</td>\n",
              "      <td>1.050519</td>\n",
              "      <td>-1.840224</td>\n",
              "      <td>-2.360795</td>\n",
              "      <td>0.141487</td>\n",
              "      <td>-0.276400</td>\n",
              "      <td>-0.436921</td>\n",
              "      <td>0.777524</td>\n",
              "      <td>-0.474026</td>\n",
              "      <td>-1.369867</td>\n",
              "      <td>1.135345</td>\n",
              "      <td>-0.425307</td>\n",
              "      <td>0.485587</td>\n",
              "      <td>-0.246822</td>\n",
              "      <td>0.100397</td>\n",
              "      <td>0.033385</td>\n",
              "      <td>-0.002028</td>\n",
              "    </tr>\n",
              "    <tr>\n",
              "      <th>309</th>\n",
              "      <td>-2.088275</td>\n",
              "      <td>-2.439385</td>\n",
              "      <td>1.015657</td>\n",
              "      <td>0.810787</td>\n",
              "      <td>1.168478</td>\n",
              "      <td>-1.461486</td>\n",
              "      <td>1.083020</td>\n",
              "      <td>0.179643</td>\n",
              "      <td>-1.553020</td>\n",
              "      <td>2.851326</td>\n",
              "      <td>-1.430780</td>\n",
              "      <td>-1.112869</td>\n",
              "      <td>-0.215996</td>\n",
              "      <td>-1.165748</td>\n",
              "      <td>1.893809</td>\n",
              "      <td>0.269419</td>\n",
              "      <td>-0.518062</td>\n",
              "      <td>-0.015047</td>\n",
              "      <td>0.205120</td>\n",
              "      <td>-0.003447</td>\n",
              "      <td>0.000049</td>\n",
              "    </tr>\n",
              "  </tbody>\n",
              "</table>\n",
              "<p>310 rows × 21 columns</p>\n",
              "</div>"
            ],
            "text/plain": [
              "          PC1       PC2       PC3  ...      PC19      PC20      PC21\n",
              "0   -1.596344 -2.051284  2.770144  ... -0.185750 -0.011245 -0.001292\n",
              "1   -2.418278 -2.123340  1.830460  ... -0.317709  0.005044 -0.000896\n",
              "2   -2.821968 -2.143198  2.085642  ... -0.331011  0.004411 -0.000651\n",
              "3    0.333575 -2.265111  3.177641  ...  1.497554  0.010197  0.000455\n",
              "4   -2.606156 -2.239976  1.457953  ... -0.334209  0.014751 -0.001179\n",
              "..        ...       ...       ...  ...       ...       ...       ...\n",
              "305 -1.666164 -2.255635  1.270948  ... -0.698788 -0.013671  0.000893\n",
              "306 -1.608853 -2.596355  1.247894  ... -0.704265 -0.008391 -0.001903\n",
              "307 -1.944214 -2.767694  1.121398  ... -0.228811  0.013091 -0.001256\n",
              "308 -2.012130 -1.590544  0.425522  ...  0.100397  0.033385 -0.002028\n",
              "309 -2.088275 -2.439385  1.015657  ...  0.205120 -0.003447  0.000049\n",
              "\n",
              "[310 rows x 21 columns]"
            ]
          },
          "metadata": {
            "tags": []
          },
          "execution_count": 110
        }
      ]
    },
    {
      "cell_type": "code",
      "metadata": {
        "id": "Ef6pcUbe4bWn",
        "colab_type": "code",
        "outputId": "3b60f3c9-94e3-4946-d035-f8be468fee09",
        "colab": {
          "base_uri": "https://localhost:8080/",
          "height": 123
        }
      },
      "source": [
        "#Nearly 3% of the variance can be explained\n",
        "pca.explained_variance_ratio_"
      ],
      "execution_count": 0,
      "outputs": [
        {
          "output_type": "execute_result",
          "data": {
            "text/plain": [
              "array([2.20954805e-01, 1.33961094e-01, 1.05820968e-01, 6.53959719e-02,\n",
              "       6.39424804e-02, 5.74949598e-02, 4.70566346e-02, 4.58715774e-02,\n",
              "       4.43680711e-02, 3.84605922e-02, 3.49563440e-02, 3.29022688e-02,\n",
              "       2.97133339e-02, 2.58475728e-02, 2.31523281e-02, 1.73494050e-02,\n",
              "       6.99934267e-03, 2.95351931e-03, 2.73601581e-03, 6.26587027e-05,\n",
              "       5.63938674e-08])"
            ]
          },
          "metadata": {
            "tags": []
          },
          "execution_count": 111
        }
      ]
    },
    {
      "cell_type": "code",
      "metadata": {
        "id": "jxl15OPb4hI0",
        "colab_type": "code",
        "outputId": "3b2bbfbe-ba74-437a-c8d4-8930fbaa8b60",
        "colab": {
          "base_uri": "https://localhost:8080/",
          "height": 372
        }
      },
      "source": [
        "(pd.DataFrame(pca.components_, columns=X.columns)\n",
        " .iloc[0:2]\n",
        " .plot.bar()\n",
        " .legend(bbox_to_anchor=(1,1)))"
      ],
      "execution_count": 0,
      "outputs": [
        {
          "output_type": "execute_result",
          "data": {
            "text/plain": [
              "<matplotlib.legend.Legend at 0x7f7d10f0c0f0>"
            ]
          },
          "metadata": {
            "tags": []
          },
          "execution_count": 113
        },
        {
          "output_type": "display_data",
          "data": {
            "image/png": "[encoded data removed]",
            "text/plain": [
              "<Figure size 432x288 with 1 Axes>"
            ]
          },
          "metadata": {
            "tags": [],
            "needs_background": "light"
          }
        }
      ]
    },
    {
      "cell_type": "code",
      "metadata": {
        "id": "pjfflRuN5OZ_",
        "colab_type": "code",
        "outputId": "73e6ec2a-9f9f-4757-c1b6-73ef9e198c9a",
        "colab": {
          "base_uri": "https://localhost:8080/",
          "height": 286
        }
      },
      "source": [
        "#ANALYSIS PART 2 (Clustering)\n",
        "#First method for estimating the appropriate number of clusters \n",
        "inerts = []\n",
        "for i in range(2, 20):\n",
        "    k = cluster.KMeans(n_clusters=i, random_state=42)\n",
        "    k.fit(X_std)\n",
        "    inerts.append(k.inertia_)\n",
        "    \n",
        "pd.Series(inerts).plot()"
      ],
      "execution_count": 0,
      "outputs": [
        {
          "output_type": "execute_result",
          "data": {
            "text/plain": [
              "<matplotlib.axes._subplots.AxesSubplot at 0x7f7d10e405f8>"
            ]
          },
          "metadata": {
            "tags": []
          },
          "execution_count": 114
        },
        {
          "output_type": "display_data",
          "data": {
            "image/png": "[encoded data removed]",
            "text/plain": [
              "<Figure size 432x288 with 1 Axes>"
            ]
          },
          "metadata": {
            "tags": [],
            "needs_background": "light"
          }
        }
      ]
    },
    {
      "cell_type": "code",
      "metadata": {
        "id": "IIFflO2B5eyr",
        "colab_type": "code",
        "outputId": "08f90645-6251-4ddf-ef2d-a8aa4b21b7ab",
        "colab": {
          "base_uri": "https://localhost:8080/",
          "height": 584
        }
      },
      "source": [
        "#ANALYSIS PART 2 (Clustering)\n",
        "#Second method for estimating the appropriate number of clusters \n",
        "#This may take a while to run...\n",
        "start, end = 3, 9\n",
        "cols = 2\n",
        "rows = ((end - start) // cols)\n",
        "fix, axes = plt.subplots(rows, cols, figsize=(12,8))\n",
        "axes = axes.reshape(cols * rows)\n",
        "for i, k in enumerate(range(start, end), 0):\n",
        "    ax = axes[i]\n",
        "    sil = SilhouetteVisualizer(cluster.KMeans(n_clusters=k, random_state=42), ax=ax)\n",
        "    sil.fit(X_std)\n",
        "    sil.finalize()\n",
        "plt.tight_layout()"
      ],
      "execution_count": 0,
      "outputs": [
        {
          "output_type": "display_data",
          "data": {
            "image/png": "[encoded data removed]",
            "text/plain": [
              "<Figure size 864x576 with 6 Axes>"
            ]
          },
          "metadata": {
            "tags": [],
            "needs_background": "light"
          }
        }
      ]
    },
    {
      "cell_type": "code",
      "metadata": {
        "id": "FbgJXmTs58ey",
        "colab_type": "code",
        "outputId": "e5d62098-0a0c-496e-ec1e-76c4bdb7bf4b",
        "colab": {
          "base_uri": "https://localhost:8080/",
          "height": 484
        }
      },
      "source": [
        "#ANALYSIS PART 2 (Clustering- building a heirarchy)\n",
        "#Try another mechanism\n",
        "#Third method for estimating the appropriate number of clusters \n",
        "#This one also takes a while, you may need to increase RAM\n",
        "fig, ax = plt.subplots(figsize=(10,8))\n",
        "hierarchy.dendrogram(hierarchy.linkage(X_std, method='ward'),\n",
        "                    truncate_mode='lastp', p=20, show_contracted=True)\n",
        "pass  # here to hide return value of above"
      ],
      "execution_count": 0,
      "outputs": [
        {
          "output_type": "display_data",
          "data": {
            "image/png": "[encoded data removed]",
            "text/plain": [
              "<Figure size 720x576 with 1 Axes>"
            ]
          },
          "metadata": {
            "tags": [],
            "needs_background": "light"
          }
        }
      ]
    },
    {
      "cell_type": "code",
      "metadata": {
        "id": "zA1mXyVE6W3u",
        "colab_type": "code",
        "colab": {}
      },
      "source": [
        "#ANALYSIS PART 2 (K-Means Clustering)\n",
        "# going to choose 12 clusters this time...\n",
        "k3 = cluster.KMeans(n_clusters=3, random_state=42)\n",
        "k3.fit(X_std)\n",
        "labels = k3.predict(X_std)\n"
      ],
      "execution_count": 0,
      "outputs": []
    },
    {
      "cell_type": "code",
      "metadata": {
        "id": "qgxsgGDo6c2w",
        "colab_type": "code",
        "outputId": "24d3d760-8f3a-4406-f42b-a6efa854af6e",
        "colab": {
          "base_uri": "https://localhost:8080/",
          "height": 426
        }
      },
      "source": [
        "#ANALYSIS PART 2 (K-Means Clustering)\n",
        "#Assigning cluster labels to each row \n",
        "X.assign(label=labels)"
      ],
      "execution_count": 0,
      "outputs": [
        {
          "output_type": "execute_result",
          "data": {
            "text/html": [
              "<div>\n",
              "<style scoped>\n",
              "    .dataframe tbody tr th:only-of-type {\n",
              "        vertical-align: middle;\n",
              "    }\n",
              "\n",
              "    .dataframe tbody tr th {\n",
              "        vertical-align: top;\n",
              "    }\n",
              "\n",
              "    .dataframe thead th {\n",
              "        text-align: right;\n",
              "    }\n",
              "</style>\n",
              "<table border=\"1\" class=\"dataframe\">\n",
              "  <thead>\n",
              "    <tr style=\"text-align: right;\">\n",
              "      <th></th>\n",
              "      <th>EmpID</th>\n",
              "      <th>MarriedID</th>\n",
              "      <th>MaritalStatusID</th>\n",
              "      <th>GenderID</th>\n",
              "      <th>EmpStatusID</th>\n",
              "      <th>DeptID</th>\n",
              "      <th>PerfScoreID</th>\n",
              "      <th>FromDiversityJobFairID</th>\n",
              "      <th>PayRate</th>\n",
              "      <th>Termd</th>\n",
              "      <th>PositionID</th>\n",
              "      <th>State</th>\n",
              "      <th>Zip</th>\n",
              "      <th>DOB</th>\n",
              "      <th>DateofHire</th>\n",
              "      <th>DateofTermination</th>\n",
              "      <th>ManagerID</th>\n",
              "      <th>EngagementSurvey</th>\n",
              "      <th>EmpSatisfaction</th>\n",
              "      <th>SpecialProjectsCount</th>\n",
              "      <th>LastPerformanceReview_Date</th>\n",
              "      <th>label</th>\n",
              "    </tr>\n",
              "  </thead>\n",
              "  <tbody>\n",
              "    <tr>\n",
              "      <th>0</th>\n",
              "      <td>1103024456</td>\n",
              "      <td>1</td>\n",
              "      <td>1</td>\n",
              "      <td>0</td>\n",
              "      <td>1</td>\n",
              "      <td>1</td>\n",
              "      <td>3</td>\n",
              "      <td>1</td>\n",
              "      <td>28</td>\n",
              "      <td>0</td>\n",
              "      <td>1</td>\n",
              "      <td>6</td>\n",
              "      <td>1450</td>\n",
              "      <td>564710400000000000</td>\n",
              "      <td>1225065600000000000</td>\n",
              "      <td>0</td>\n",
              "      <td>1</td>\n",
              "      <td>2</td>\n",
              "      <td>2</td>\n",
              "      <td>6</td>\n",
              "      <td>1547510400000000000</td>\n",
              "      <td>1</td>\n",
              "    </tr>\n",
              "    <tr>\n",
              "      <th>1</th>\n",
              "      <td>1106026572</td>\n",
              "      <td>0</td>\n",
              "      <td>2</td>\n",
              "      <td>1</td>\n",
              "      <td>1</td>\n",
              "      <td>1</td>\n",
              "      <td>3</td>\n",
              "      <td>0</td>\n",
              "      <td>23</td>\n",
              "      <td>0</td>\n",
              "      <td>1</td>\n",
              "      <td>6</td>\n",
              "      <td>1460</td>\n",
              "      <td>451785600000000000</td>\n",
              "      <td>1388966400000000000</td>\n",
              "      <td>0</td>\n",
              "      <td>1</td>\n",
              "      <td>5</td>\n",
              "      <td>4</td>\n",
              "      <td>4</td>\n",
              "      <td>1547683200000000000</td>\n",
              "      <td>1</td>\n",
              "    </tr>\n",
              "    <tr>\n",
              "      <th>2</th>\n",
              "      <td>1302053333</td>\n",
              "      <td>0</td>\n",
              "      <td>0</td>\n",
              "      <td>1</td>\n",
              "      <td>1</td>\n",
              "      <td>1</td>\n",
              "      <td>3</td>\n",
              "      <td>0</td>\n",
              "      <td>29</td>\n",
              "      <td>0</td>\n",
              "      <td>1</td>\n",
              "      <td>6</td>\n",
              "      <td>2703</td>\n",
              "      <td>525916800000000000</td>\n",
              "      <td>1411948800000000000</td>\n",
              "      <td>0</td>\n",
              "      <td>1</td>\n",
              "      <td>3</td>\n",
              "      <td>5</td>\n",
              "      <td>5</td>\n",
              "      <td>1547769600000000000</td>\n",
              "      <td>1</td>\n",
              "    </tr>\n",
              "    <tr>\n",
              "      <th>3</th>\n",
              "      <td>1211050782</td>\n",
              "      <td>1</td>\n",
              "      <td>1</td>\n",
              "      <td>0</td>\n",
              "      <td>1</td>\n",
              "      <td>1</td>\n",
              "      <td>3</td>\n",
              "      <td>0</td>\n",
              "      <td>21</td>\n",
              "      <td>1</td>\n",
              "      <td>2</td>\n",
              "      <td>6</td>\n",
              "      <td>2170</td>\n",
              "      <td>495676800000000000</td>\n",
              "      <td>1424044800000000000</td>\n",
              "      <td>1429056000000000000</td>\n",
              "      <td>1</td>\n",
              "      <td>3</td>\n",
              "      <td>3</td>\n",
              "      <td>4</td>\n",
              "      <td>0</td>\n",
              "      <td>0</td>\n",
              "    </tr>\n",
              "    <tr>\n",
              "      <th>4</th>\n",
              "      <td>1307059817</td>\n",
              "      <td>0</td>\n",
              "      <td>0</td>\n",
              "      <td>0</td>\n",
              "      <td>1</td>\n",
              "      <td>1</td>\n",
              "      <td>3</td>\n",
              "      <td>0</td>\n",
              "      <td>16</td>\n",
              "      <td>0</td>\n",
              "      <td>2</td>\n",
              "      <td>6</td>\n",
              "      <td>2330</td>\n",
              "      <td>580003200000000000</td>\n",
              "      <td>1430438400000000000</td>\n",
              "      <td>0</td>\n",
              "      <td>1</td>\n",
              "      <td>5</td>\n",
              "      <td>3</td>\n",
              "      <td>5</td>\n",
              "      <td>1547510400000000000</td>\n",
              "      <td>1</td>\n",
              "    </tr>\n",
              "    <tr>\n",
              "      <th>...</th>\n",
              "      <td>...</td>\n",
              "      <td>...</td>\n",
              "      <td>...</td>\n",
              "      <td>...</td>\n",
              "      <td>...</td>\n",
              "      <td>...</td>\n",
              "      <td>...</td>\n",
              "      <td>...</td>\n",
              "      <td>...</td>\n",
              "      <td>...</td>\n",
              "      <td>...</td>\n",
              "      <td>...</td>\n",
              "      <td>...</td>\n",
              "      <td>...</td>\n",
              "      <td>...</td>\n",
              "      <td>...</td>\n",
              "      <td>...</td>\n",
              "      <td>...</td>\n",
              "      <td>...</td>\n",
              "      <td>...</td>\n",
              "      <td>...</td>\n",
              "      <td>...</td>\n",
              "    </tr>\n",
              "    <tr>\n",
              "      <th>305</th>\n",
              "      <td>1411071312</td>\n",
              "      <td>1</td>\n",
              "      <td>1</td>\n",
              "      <td>0</td>\n",
              "      <td>3</td>\n",
              "      <td>3</td>\n",
              "      <td>3</td>\n",
              "      <td>0</td>\n",
              "      <td>54</td>\n",
              "      <td>0</td>\n",
              "      <td>28</td>\n",
              "      <td>5</td>\n",
              "      <td>6033</td>\n",
              "      <td>2589148800000000000</td>\n",
              "      <td>1415577600000000000</td>\n",
              "      <td>0</td>\n",
              "      <td>7</td>\n",
              "      <td>1</td>\n",
              "      <td>5</td>\n",
              "      <td>8</td>\n",
              "      <td>1549929600000000000</td>\n",
              "      <td>1</td>\n",
              "    </tr>\n",
              "    <tr>\n",
              "      <th>306</th>\n",
              "      <td>1108028108</td>\n",
              "      <td>1</td>\n",
              "      <td>1</td>\n",
              "      <td>1</td>\n",
              "      <td>3</td>\n",
              "      <td>3</td>\n",
              "      <td>3</td>\n",
              "      <td>0</td>\n",
              "      <td>56</td>\n",
              "      <td>0</td>\n",
              "      <td>28</td>\n",
              "      <td>6</td>\n",
              "      <td>2169</td>\n",
              "      <td>514598400000000000</td>\n",
              "      <td>1415577600000000000</td>\n",
              "      <td>0</td>\n",
              "      <td>7</td>\n",
              "      <td>4</td>\n",
              "      <td>5</td>\n",
              "      <td>6</td>\n",
              "      <td>1546819200000000000</td>\n",
              "      <td>1</td>\n",
              "    </tr>\n",
              "    <tr>\n",
              "      <th>307</th>\n",
              "      <td>904013591</td>\n",
              "      <td>1</td>\n",
              "      <td>1</td>\n",
              "      <td>1</td>\n",
              "      <td>2</td>\n",
              "      <td>3</td>\n",
              "      <td>3</td>\n",
              "      <td>0</td>\n",
              "      <td>53</td>\n",
              "      <td>0</td>\n",
              "      <td>28</td>\n",
              "      <td>6</td>\n",
              "      <td>1545</td>\n",
              "      <td>413596800000000000</td>\n",
              "      <td>1467244800000000000</td>\n",
              "      <td>0</td>\n",
              "      <td>7</td>\n",
              "      <td>3</td>\n",
              "      <td>4</td>\n",
              "      <td>5</td>\n",
              "      <td>1547424000000000000</td>\n",
              "      <td>1</td>\n",
              "    </tr>\n",
              "    <tr>\n",
              "      <th>308</th>\n",
              "      <td>1308060959</td>\n",
              "      <td>0</td>\n",
              "      <td>0</td>\n",
              "      <td>1</td>\n",
              "      <td>1</td>\n",
              "      <td>3</td>\n",
              "      <td>3</td>\n",
              "      <td>0</td>\n",
              "      <td>53</td>\n",
              "      <td>0</td>\n",
              "      <td>28</td>\n",
              "      <td>5</td>\n",
              "      <td>6278</td>\n",
              "      <td>3019680000000000000</td>\n",
              "      <td>1415577600000000000</td>\n",
              "      <td>0</td>\n",
              "      <td>7</td>\n",
              "      <td>5</td>\n",
              "      <td>3</td>\n",
              "      <td>4</td>\n",
              "      <td>1546387200000000000</td>\n",
              "      <td>1</td>\n",
              "    </tr>\n",
              "    <tr>\n",
              "      <th>309</th>\n",
              "      <td>1301052347</td>\n",
              "      <td>0</td>\n",
              "      <td>4</td>\n",
              "      <td>0</td>\n",
              "      <td>1</td>\n",
              "      <td>3</td>\n",
              "      <td>3</td>\n",
              "      <td>0</td>\n",
              "      <td>55</td>\n",
              "      <td>0</td>\n",
              "      <td>28</td>\n",
              "      <td>6</td>\n",
              "      <td>2453</td>\n",
              "      <td>262915200000000000</td>\n",
              "      <td>1427673600000000000</td>\n",
              "      <td>0</td>\n",
              "      <td>7</td>\n",
              "      <td>1</td>\n",
              "      <td>4</td>\n",
              "      <td>8</td>\n",
              "      <td>1549324800000000000</td>\n",
              "      <td>1</td>\n",
              "    </tr>\n",
              "  </tbody>\n",
              "</table>\n",
              "<p>310 rows × 22 columns</p>\n",
              "</div>"
            ],
            "text/plain": [
              "          EmpID  MarriedID  ...  LastPerformanceReview_Date  label\n",
              "0    1103024456          1  ...         1547510400000000000      1\n",
              "1    1106026572          0  ...         1547683200000000000      1\n",
              "2    1302053333          0  ...         1547769600000000000      1\n",
              "3    1211050782          1  ...                           0      0\n",
              "4    1307059817          0  ...         1547510400000000000      1\n",
              "..          ...        ...  ...                         ...    ...\n",
              "305  1411071312          1  ...         1549929600000000000      1\n",
              "306  1108028108          1  ...         1546819200000000000      1\n",
              "307   904013591          1  ...         1547424000000000000      1\n",
              "308  1308060959          0  ...         1546387200000000000      1\n",
              "309  1301052347          0  ...         1549324800000000000      1\n",
              "\n",
              "[310 rows x 22 columns]"
            ]
          },
          "metadata": {
            "tags": []
          },
          "execution_count": 129
        }
      ]
    },
    {
      "cell_type": "code",
      "metadata": {
        "id": "UCMVcrv16hYx",
        "colab_type": "code",
        "outputId": "56d6f00e-2d88-483d-867f-f0623e96f72b",
        "colab": {
          "base_uri": "https://localhost:8080/",
          "height": 1000
        }
      },
      "source": [
        "#ANALYSIS PART 2 (K-Means Clustering)\n",
        "#Looking at tool mean usage and variance for each cluster\n",
        "(X.assign(label=labels)\n",
        "  .groupby('label')\n",
        "  .agg(['mean', 'var'])\n",
        "  .T\n",
        ")"
      ],
      "execution_count": 0,
      "outputs": [
        {
          "output_type": "execute_result",
          "data": {
            "text/html": [
              "<div>\n",
              "<style scoped>\n",
              "    .dataframe tbody tr th:only-of-type {\n",
              "        vertical-align: middle;\n",
              "    }\n",
              "\n",
              "    .dataframe tbody tr th {\n",
              "        vertical-align: top;\n",
              "    }\n",
              "\n",
              "    .dataframe thead th {\n",
              "        text-align: right;\n",
              "    }\n",
              "</style>\n",
              "<table border=\"1\" class=\"dataframe\">\n",
              "  <thead>\n",
              "    <tr style=\"text-align: right;\">\n",
              "      <th></th>\n",
              "      <th>label</th>\n",
              "      <th>0</th>\n",
              "      <th>1</th>\n",
              "      <th>2</th>\n",
              "    </tr>\n",
              "  </thead>\n",
              "  <tbody>\n",
              "    <tr>\n",
              "      <th rowspan=\"2\" valign=\"top\">EmpID</th>\n",
              "      <th>mean</th>\n",
              "      <td>1.190557e+09</td>\n",
              "      <td>1.194662e+09</td>\n",
              "      <td>1.312236e+09</td>\n",
              "    </tr>\n",
              "    <tr>\n",
              "      <th>var</th>\n",
              "      <td>2.828075e+16</td>\n",
              "      <td>3.638167e+16</td>\n",
              "      <td>2.212949e+16</td>\n",
              "    </tr>\n",
              "    <tr>\n",
              "      <th rowspan=\"2\" valign=\"top\">MarriedID</th>\n",
              "      <th>mean</th>\n",
              "      <td>4.466019e-01</td>\n",
              "      <td>3.736842e-01</td>\n",
              "      <td>3.529412e-01</td>\n",
              "    </tr>\n",
              "    <tr>\n",
              "      <th>var</th>\n",
              "      <td>2.495717e-01</td>\n",
              "      <td>2.352827e-01</td>\n",
              "      <td>2.426471e-01</td>\n",
              "    </tr>\n",
              "    <tr>\n",
              "      <th rowspan=\"2\" valign=\"top\">MaritalStatusID</th>\n",
              "      <th>mean</th>\n",
              "      <td>9.417476e-01</td>\n",
              "      <td>7.368421e-01</td>\n",
              "      <td>8.235294e-01</td>\n",
              "    </tr>\n",
              "    <tr>\n",
              "      <th>var</th>\n",
              "      <td>8.985342e-01</td>\n",
              "      <td>8.721805e-01</td>\n",
              "      <td>1.029412e+00</td>\n",
              "    </tr>\n",
              "    <tr>\n",
              "      <th rowspan=\"2\" valign=\"top\">GenderID</th>\n",
              "      <th>mean</th>\n",
              "      <td>4.174757e-01</td>\n",
              "      <td>4.263158e-01</td>\n",
              "      <td>5.294118e-01</td>\n",
              "    </tr>\n",
              "    <tr>\n",
              "      <th>var</th>\n",
              "      <td>2.455740e-01</td>\n",
              "      <td>2.458647e-01</td>\n",
              "      <td>2.647059e-01</td>\n",
              "    </tr>\n",
              "    <tr>\n",
              "      <th rowspan=\"2\" valign=\"top\">EmpStatusID</th>\n",
              "      <th>mean</th>\n",
              "      <td>4.825243e+00</td>\n",
              "      <td>1.200000e+00</td>\n",
              "      <td>1.058824e+00</td>\n",
              "    </tr>\n",
              "    <tr>\n",
              "      <th>var</th>\n",
              "      <td>2.632781e-01</td>\n",
              "      <td>3.089947e-01</td>\n",
              "      <td>5.882353e-02</td>\n",
              "    </tr>\n",
              "    <tr>\n",
              "      <th rowspan=\"2\" valign=\"top\">DeptID</th>\n",
              "      <th>mean</th>\n",
              "      <td>4.699029e+00</td>\n",
              "      <td>4.447368e+00</td>\n",
              "      <td>5.823529e+00</td>\n",
              "    </tr>\n",
              "    <tr>\n",
              "      <th>var</th>\n",
              "      <td>8.399010e-01</td>\n",
              "      <td>1.253829e+00</td>\n",
              "      <td>5.294118e-01</td>\n",
              "    </tr>\n",
              "    <tr>\n",
              "      <th rowspan=\"2\" valign=\"top\">PerfScoreID</th>\n",
              "      <th>mean</th>\n",
              "      <td>2.902913e+00</td>\n",
              "      <td>3.042105e+00</td>\n",
              "      <td>2.823529e+00</td>\n",
              "    </tr>\n",
              "    <tr>\n",
              "      <th>var</th>\n",
              "      <td>3.238150e-01</td>\n",
              "      <td>2.839321e-01</td>\n",
              "      <td>9.044118e-01</td>\n",
              "    </tr>\n",
              "    <tr>\n",
              "      <th rowspan=\"2\" valign=\"top\">FromDiversityJobFairID</th>\n",
              "      <th>mean</th>\n",
              "      <td>1.553398e-01</td>\n",
              "      <td>6.315789e-02</td>\n",
              "      <td>5.882353e-02</td>\n",
              "    </tr>\n",
              "    <tr>\n",
              "      <th>var</th>\n",
              "      <td>1.324957e-01</td>\n",
              "      <td>5.948204e-02</td>\n",
              "      <td>5.882353e-02</td>\n",
              "    </tr>\n",
              "    <tr>\n",
              "      <th rowspan=\"2\" valign=\"top\">PayRate</th>\n",
              "      <th>mean</th>\n",
              "      <td>2.692233e+01</td>\n",
              "      <td>3.146842e+01</td>\n",
              "      <td>5.400000e+01</td>\n",
              "    </tr>\n",
              "    <tr>\n",
              "      <th>var</th>\n",
              "      <td>1.534645e+02</td>\n",
              "      <td>2.440916e+02</td>\n",
              "      <td>2.437500e+01</td>\n",
              "    </tr>\n",
              "    <tr>\n",
              "      <th rowspan=\"2\" valign=\"top\">Termd</th>\n",
              "      <th>mean</th>\n",
              "      <td>1.000000e+00</td>\n",
              "      <td>0.000000e+00</td>\n",
              "      <td>0.000000e+00</td>\n",
              "    </tr>\n",
              "    <tr>\n",
              "      <th>var</th>\n",
              "      <td>0.000000e+00</td>\n",
              "      <td>0.000000e+00</td>\n",
              "      <td>0.000000e+00</td>\n",
              "    </tr>\n",
              "    <tr>\n",
              "      <th rowspan=\"2\" valign=\"top\">PositionID</th>\n",
              "      <th>mean</th>\n",
              "      <td>1.828155e+01</td>\n",
              "      <td>1.726316e+01</td>\n",
              "      <td>3.352941e+00</td>\n",
              "    </tr>\n",
              "    <tr>\n",
              "      <th>var</th>\n",
              "      <td>2.273368e+01</td>\n",
              "      <td>3.338012e+01</td>\n",
              "      <td>2.117647e+00</td>\n",
              "    </tr>\n",
              "    <tr>\n",
              "      <th rowspan=\"2\" valign=\"top\">State</th>\n",
              "      <th>mean</th>\n",
              "      <td>6.194175e+00</td>\n",
              "      <td>6.247368e+00</td>\n",
              "      <td>3.311765e+01</td>\n",
              "    </tr>\n",
              "    <tr>\n",
              "      <th>var</th>\n",
              "      <td>2.452123e+00</td>\n",
              "      <td>2.822083e+00</td>\n",
              "      <td>8.998529e+01</td>\n",
              "    </tr>\n",
              "    <tr>\n",
              "      <th rowspan=\"2\" valign=\"top\">Zip</th>\n",
              "      <th>mean</th>\n",
              "      <td>3.253777e+03</td>\n",
              "      <td>2.548247e+03</td>\n",
              "      <td>7.160653e+04</td>\n",
              "    </tr>\n",
              "    <tr>\n",
              "      <th>var</th>\n",
              "      <td>3.412703e+07</td>\n",
              "      <td>8.380460e+06</td>\n",
              "      <td>4.644395e+08</td>\n",
              "    </tr>\n",
              "    <tr>\n",
              "      <th rowspan=\"2\" valign=\"top\">DOB</th>\n",
              "      <th>mean</th>\n",
              "      <td>7.991757e+17</td>\n",
              "      <td>7.668023e+17</td>\n",
              "      <td>9.028800e+17</td>\n",
              "    </tr>\n",
              "    <tr>\n",
              "      <th>var</th>\n",
              "      <td>9.612640e+35</td>\n",
              "      <td>8.964849e+35</td>\n",
              "      <td>9.758838e+35</td>\n",
              "    </tr>\n",
              "    <tr>\n",
              "      <th rowspan=\"2\" valign=\"top\">DateofHire</th>\n",
              "      <th>mean</th>\n",
              "      <td>1.323907e+18</td>\n",
              "      <td>1.378790e+18</td>\n",
              "      <td>1.355504e+18</td>\n",
              "    </tr>\n",
              "    <tr>\n",
              "      <th>var</th>\n",
              "      <td>1.962280e+33</td>\n",
              "      <td>3.467469e+33</td>\n",
              "      <td>5.818609e+33</td>\n",
              "    </tr>\n",
              "    <tr>\n",
              "      <th rowspan=\"2\" valign=\"top\">DateofTermination</th>\n",
              "      <th>mean</th>\n",
              "      <td>1.390076e+18</td>\n",
              "      <td>0.000000e+00</td>\n",
              "      <td>0.000000e+00</td>\n",
              "    </tr>\n",
              "    <tr>\n",
              "      <th>var</th>\n",
              "      <td>2.931703e+33</td>\n",
              "      <td>0.000000e+00</td>\n",
              "      <td>0.000000e+00</td>\n",
              "    </tr>\n",
              "    <tr>\n",
              "      <th rowspan=\"2\" valign=\"top\">ManagerID</th>\n",
              "      <th>mean</th>\n",
              "      <td>1.686408e+01</td>\n",
              "      <td>1.236842e+01</td>\n",
              "      <td>1.858824e+01</td>\n",
              "    </tr>\n",
              "    <tr>\n",
              "      <th>var</th>\n",
              "      <td>1.086480e+02</td>\n",
              "      <td>4.388471e+01</td>\n",
              "      <td>1.788235e+01</td>\n",
              "    </tr>\n",
              "    <tr>\n",
              "      <th rowspan=\"2\" valign=\"top\">EngagementSurvey</th>\n",
              "      <th>mean</th>\n",
              "      <td>2.922330e+00</td>\n",
              "      <td>2.936842e+00</td>\n",
              "      <td>2.647059e+00</td>\n",
              "    </tr>\n",
              "    <tr>\n",
              "      <th>var</th>\n",
              "      <td>2.052732e+00</td>\n",
              "      <td>1.943080e+00</td>\n",
              "      <td>1.367647e+00</td>\n",
              "    </tr>\n",
              "    <tr>\n",
              "      <th rowspan=\"2\" valign=\"top\">EmpSatisfaction</th>\n",
              "      <th>mean</th>\n",
              "      <td>3.873786e+00</td>\n",
              "      <td>3.926316e+00</td>\n",
              "      <td>3.588235e+00</td>\n",
              "    </tr>\n",
              "    <tr>\n",
              "      <th>var</th>\n",
              "      <td>7.388159e-01</td>\n",
              "      <td>8.305207e-01</td>\n",
              "      <td>1.382353e+00</td>\n",
              "    </tr>\n",
              "    <tr>\n",
              "      <th rowspan=\"2\" valign=\"top\">SpecialProjectsCount</th>\n",
              "      <th>mean</th>\n",
              "      <td>7.378641e-01</td>\n",
              "      <td>1.547368e+00</td>\n",
              "      <td>2.941176e-01</td>\n",
              "    </tr>\n",
              "    <tr>\n",
              "      <th>var</th>\n",
              "      <td>3.450219e+00</td>\n",
              "      <td>6.746422e+00</td>\n",
              "      <td>1.470588e+00</td>\n",
              "    </tr>\n",
              "    <tr>\n",
              "      <th rowspan=\"2\" valign=\"top\">LastPerformanceReview_Date</th>\n",
              "      <th>mean</th>\n",
              "      <td>0.000000e+00</td>\n",
              "      <td>1.548810e+18</td>\n",
              "      <td>1.548491e+18</td>\n",
              "    </tr>\n",
              "    <tr>\n",
              "      <th>var</th>\n",
              "      <td>0.000000e+00</td>\n",
              "      <td>2.122721e+30</td>\n",
              "      <td>8.042946e+29</td>\n",
              "    </tr>\n",
              "  </tbody>\n",
              "</table>\n",
              "</div>"
            ],
            "text/plain": [
              "label                                       0             1             2\n",
              "EmpID                      mean  1.190557e+09  1.194662e+09  1.312236e+09\n",
              "                           var   2.828075e+16  3.638167e+16  2.212949e+16\n",
              "MarriedID                  mean  4.466019e-01  3.736842e-01  3.529412e-01\n",
              "                           var   2.495717e-01  2.352827e-01  2.426471e-01\n",
              "MaritalStatusID            mean  9.417476e-01  7.368421e-01  8.235294e-01\n",
              "                           var   8.985342e-01  8.721805e-01  1.029412e+00\n",
              "GenderID                   mean  4.174757e-01  4.263158e-01  5.294118e-01\n",
              "                           var   2.455740e-01  2.458647e-01  2.647059e-01\n",
              "EmpStatusID                mean  4.825243e+00  1.200000e+00  1.058824e+00\n",
              "                           var   2.632781e-01  3.089947e-01  5.882353e-02\n",
              "DeptID                     mean  4.699029e+00  4.447368e+00  5.823529e+00\n",
              "                           var   8.399010e-01  1.253829e+00  5.294118e-01\n",
              "PerfScoreID                mean  2.902913e+00  3.042105e+00  2.823529e+00\n",
              "                           var   3.238150e-01  2.839321e-01  9.044118e-01\n",
              "FromDiversityJobFairID     mean  1.553398e-01  6.315789e-02  5.882353e-02\n",
              "                           var   1.324957e-01  5.948204e-02  5.882353e-02\n",
              "PayRate                    mean  2.692233e+01  3.146842e+01  5.400000e+01\n",
              "                           var   1.534645e+02  2.440916e+02  2.437500e+01\n",
              "Termd                      mean  1.000000e+00  0.000000e+00  0.000000e+00\n",
              "                           var   0.000000e+00  0.000000e+00  0.000000e+00\n",
              "PositionID                 mean  1.828155e+01  1.726316e+01  3.352941e+00\n",
              "                           var   2.273368e+01  3.338012e+01  2.117647e+00\n",
              "State                      mean  6.194175e+00  6.247368e+00  3.311765e+01\n",
              "                           var   2.452123e+00  2.822083e+00  8.998529e+01\n",
              "Zip                        mean  3.253777e+03  2.548247e+03  7.160653e+04\n",
              "                           var   3.412703e+07  8.380460e+06  4.644395e+08\n",
              "DOB                        mean  7.991757e+17  7.668023e+17  9.028800e+17\n",
              "                           var   9.612640e+35  8.964849e+35  9.758838e+35\n",
              "DateofHire                 mean  1.323907e+18  1.378790e+18  1.355504e+18\n",
              "                           var   1.962280e+33  3.467469e+33  5.818609e+33\n",
              "DateofTermination          mean  1.390076e+18  0.000000e+00  0.000000e+00\n",
              "                           var   2.931703e+33  0.000000e+00  0.000000e+00\n",
              "ManagerID                  mean  1.686408e+01  1.236842e+01  1.858824e+01\n",
              "                           var   1.086480e+02  4.388471e+01  1.788235e+01\n",
              "EngagementSurvey           mean  2.922330e+00  2.936842e+00  2.647059e+00\n",
              "                           var   2.052732e+00  1.943080e+00  1.367647e+00\n",
              "EmpSatisfaction            mean  3.873786e+00  3.926316e+00  3.588235e+00\n",
              "                           var   7.388159e-01  8.305207e-01  1.382353e+00\n",
              "SpecialProjectsCount       mean  7.378641e-01  1.547368e+00  2.941176e-01\n",
              "                           var   3.450219e+00  6.746422e+00  1.470588e+00\n",
              "LastPerformanceReview_Date mean  0.000000e+00  1.548810e+18  1.548491e+18\n",
              "                           var   0.000000e+00  2.122721e+30  8.042946e+29"
            ]
          },
          "metadata": {
            "tags": []
          },
          "execution_count": 130
        }
      ]
    },
    {
      "cell_type": "code",
      "metadata": {
        "id": "JF-I05026nL-",
        "colab_type": "code",
        "outputId": "9ae56893-16a9-4bed-d2f8-bf4bec783879",
        "colab": {
          "base_uri": "https://localhost:8080/",
          "height": 87
        }
      },
      "source": [
        "#ANALYSIS PART 2 (K-Means Clustering)\n",
        "#How many developers in each cluster?\n",
        "pd.Series(labels).value_counts().sort_index()"
      ],
      "execution_count": 0,
      "outputs": [
        {
          "output_type": "execute_result",
          "data": {
            "text/plain": [
              "0    103\n",
              "1    190\n",
              "2     17\n",
              "dtype: int64"
            ]
          },
          "metadata": {
            "tags": []
          },
          "execution_count": 131
        }
      ]
    },
    {
      "cell_type": "code",
      "metadata": {
        "id": "_bxhVoAY6rwG",
        "colab_type": "code",
        "outputId": "15ed3a3b-eec2-46d1-d2b1-f03d7af21265",
        "colab": {
          "base_uri": "https://localhost:8080/",
          "height": 408
        }
      },
      "source": [
        "#ANALYSIS PART 2 (K-Means Clustering)\n",
        "# Add coloring to aid impact to clusters\n",
        "(X.assign(label=labels)\n",
        "  .groupby('label')\n",
        "  .mean()\n",
        "  .T\n",
        " .style.background_gradient(cmap='RdBu', axis=1)\n",
        ")"
      ],
      "execution_count": 0,
      "outputs": [
        {
          "output_type": "execute_result",
          "data": {
            "text/html": [
              "<style  type=\"text/css\" >\n",
              "    #T_f4b10a4c_7b96_11ea_83d0_0242ac1c0002row0_col0 {\n",
              "            background-color:  #67001f;\n",
              "            color:  #f1f1f1;\n",
              "        }    #T_f4b10a4c_7b96_11ea_83d0_0242ac1c0002row0_col1 {\n",
              "            background-color:  #7f0823;\n",
              "            color:  #f1f1f1;\n",
              "        }    #T_f4b10a4c_7b96_11ea_83d0_0242ac1c0002row0_col2 {\n",
              "            background-color:  #053061;\n",
              "            color:  #f1f1f1;\n",
              "        }    #T_f4b10a4c_7b96_11ea_83d0_0242ac1c0002row1_col0 {\n",
              "            background-color:  #053061;\n",
              "            color:  #f1f1f1;\n",
              "        }    #T_f4b10a4c_7b96_11ea_83d0_0242ac1c0002row1_col1 {\n",
              "            background-color:  #dc6e57;\n",
              "            color:  #000000;\n",
              "        }    #T_f4b10a4c_7b96_11ea_83d0_0242ac1c0002row1_col2 {\n",
              "            background-color:  #67001f;\n",
              "            color:  #f1f1f1;\n",
              "        }    #T_f4b10a4c_7b96_11ea_83d0_0242ac1c0002row2_col0 {\n",
              "            background-color:  #053061;\n",
              "            color:  #f1f1f1;\n",
              "        }    #T_f4b10a4c_7b96_11ea_83d0_0242ac1c0002row2_col1 {\n",
              "            background-color:  #67001f;\n",
              "            color:  #f1f1f1;\n",
              "        }    #T_f4b10a4c_7b96_11ea_83d0_0242ac1c0002row2_col2 {\n",
              "            background-color:  #fce2d2;\n",
              "            color:  #000000;\n",
              "        }    #T_f4b10a4c_7b96_11ea_83d0_0242ac1c0002row3_col0 {\n",
              "            background-color:  #67001f;\n",
              "            color:  #f1f1f1;\n",
              "        }    #T_f4b10a4c_7b96_11ea_83d0_0242ac1c0002row3_col1 {\n",
              "            background-color:  #a21328;\n",
              "            color:  #f1f1f1;\n",
              "        }    #T_f4b10a4c_7b96_11ea_83d0_0242ac1c0002row3_col2 {\n",
              "            background-color:  #053061;\n",
              "            color:  #f1f1f1;\n",
              "        }    #T_f4b10a4c_7b96_11ea_83d0_0242ac1c0002row4_col0 {\n",
              "            background-color:  #053061;\n",
              "            color:  #f1f1f1;\n",
              "        }    #T_f4b10a4c_7b96_11ea_83d0_0242ac1c0002row4_col1 {\n",
              "            background-color:  #810823;\n",
              "            color:  #f1f1f1;\n",
              "        }    #T_f4b10a4c_7b96_11ea_83d0_0242ac1c0002row4_col2 {\n",
              "            background-color:  #67001f;\n",
              "            color:  #f1f1f1;\n",
              "        }    #T_f4b10a4c_7b96_11ea_83d0_0242ac1c0002row5_col0 {\n",
              "            background-color:  #cf5246;\n",
              "            color:  #000000;\n",
              "        }    #T_f4b10a4c_7b96_11ea_83d0_0242ac1c0002row5_col1 {\n",
              "            background-color:  #67001f;\n",
              "            color:  #f1f1f1;\n",
              "        }    #T_f4b10a4c_7b96_11ea_83d0_0242ac1c0002row5_col2 {\n",
              "            background-color:  #053061;\n",
              "            color:  #f1f1f1;\n",
              "        }    #T_f4b10a4c_7b96_11ea_83d0_0242ac1c0002row6_col0 {\n",
              "            background-color:  #f9c6ac;\n",
              "            color:  #000000;\n",
              "        }    #T_f4b10a4c_7b96_11ea_83d0_0242ac1c0002row6_col1 {\n",
              "            background-color:  #053061;\n",
              "            color:  #f1f1f1;\n",
              "        }    #T_f4b10a4c_7b96_11ea_83d0_0242ac1c0002row6_col2 {\n",
              "            background-color:  #67001f;\n",
              "            color:  #f1f1f1;\n",
              "        }    #T_f4b10a4c_7b96_11ea_83d0_0242ac1c0002row7_col0 {\n",
              "            background-color:  #053061;\n",
              "            color:  #f1f1f1;\n",
              "        }    #T_f4b10a4c_7b96_11ea_83d0_0242ac1c0002row7_col1 {\n",
              "            background-color:  #870a24;\n",
              "            color:  #f1f1f1;\n",
              "        }    #T_f4b10a4c_7b96_11ea_83d0_0242ac1c0002row7_col2 {\n",
              "            background-color:  #67001f;\n",
              "            color:  #f1f1f1;\n",
              "        }    #T_f4b10a4c_7b96_11ea_83d0_0242ac1c0002row8_col0 {\n",
              "            background-color:  #67001f;\n",
              "            color:  #f1f1f1;\n",
              "        }    #T_f4b10a4c_7b96_11ea_83d0_0242ac1c0002row8_col1 {\n",
              "            background-color:  #c94741;\n",
              "            color:  #f1f1f1;\n",
              "        }    #T_f4b10a4c_7b96_11ea_83d0_0242ac1c0002row8_col2 {\n",
              "            background-color:  #053061;\n",
              "            color:  #f1f1f1;\n",
              "        }    #T_f4b10a4c_7b96_11ea_83d0_0242ac1c0002row9_col0 {\n",
              "            background-color:  #053061;\n",
              "            color:  #f1f1f1;\n",
              "        }    #T_f4b10a4c_7b96_11ea_83d0_0242ac1c0002row9_col1 {\n",
              "            background-color:  #67001f;\n",
              "            color:  #f1f1f1;\n",
              "        }    #T_f4b10a4c_7b96_11ea_83d0_0242ac1c0002row9_col2 {\n",
              "            background-color:  #67001f;\n",
              "            color:  #f1f1f1;\n",
              "        }    #T_f4b10a4c_7b96_11ea_83d0_0242ac1c0002row10_col0 {\n",
              "            background-color:  #053061;\n",
              "            color:  #f1f1f1;\n",
              "        }    #T_f4b10a4c_7b96_11ea_83d0_0242ac1c0002row10_col1 {\n",
              "            background-color:  #185493;\n",
              "            color:  #f1f1f1;\n",
              "        }    #T_f4b10a4c_7b96_11ea_83d0_0242ac1c0002row10_col2 {\n",
              "            background-color:  #67001f;\n",
              "            color:  #f1f1f1;\n",
              "        }    #T_f4b10a4c_7b96_11ea_83d0_0242ac1c0002row11_col0 {\n",
              "            background-color:  #67001f;\n",
              "            color:  #f1f1f1;\n",
              "        }    #T_f4b10a4c_7b96_11ea_83d0_0242ac1c0002row11_col1 {\n",
              "            background-color:  #67001f;\n",
              "            color:  #f1f1f1;\n",
              "        }    #T_f4b10a4c_7b96_11ea_83d0_0242ac1c0002row11_col2 {\n",
              "            background-color:  #053061;\n",
              "            color:  #f1f1f1;\n",
              "        }    #T_f4b10a4c_7b96_11ea_83d0_0242ac1c0002row12_col0 {\n",
              "            background-color:  #6d0220;\n",
              "            color:  #f1f1f1;\n",
              "        }    #T_f4b10a4c_7b96_11ea_83d0_0242ac1c0002row12_col1 {\n",
              "            background-color:  #67001f;\n",
              "            color:  #f1f1f1;\n",
              "        }    #T_f4b10a4c_7b96_11ea_83d0_0242ac1c0002row12_col2 {\n",
              "            background-color:  #053061;\n",
              "            color:  #f1f1f1;\n",
              "        }    #T_f4b10a4c_7b96_11ea_83d0_0242ac1c0002row13_col0 {\n",
              "            background-color:  #e17860;\n",
              "            color:  #000000;\n",
              "        }    #T_f4b10a4c_7b96_11ea_83d0_0242ac1c0002row13_col1 {\n",
              "            background-color:  #67001f;\n",
              "            color:  #f1f1f1;\n",
              "        }    #T_f4b10a4c_7b96_11ea_83d0_0242ac1c0002row13_col2 {\n",
              "            background-color:  #053061;\n",
              "            color:  #f1f1f1;\n",
              "        }    #T_f4b10a4c_7b96_11ea_83d0_0242ac1c0002row14_col0 {\n",
              "            background-color:  #67001f;\n",
              "            color:  #f1f1f1;\n",
              "        }    #T_f4b10a4c_7b96_11ea_83d0_0242ac1c0002row14_col1 {\n",
              "            background-color:  #053061;\n",
              "            color:  #f1f1f1;\n",
              "        }    #T_f4b10a4c_7b96_11ea_83d0_0242ac1c0002row14_col2 {\n",
              "            background-color:  #dae9f2;\n",
              "            color:  #000000;\n",
              "        }    #T_f4b10a4c_7b96_11ea_83d0_0242ac1c0002row15_col0 {\n",
              "            background-color:  #053061;\n",
              "            color:  #f1f1f1;\n",
              "        }    #T_f4b10a4c_7b96_11ea_83d0_0242ac1c0002row15_col1 {\n",
              "            background-color:  #67001f;\n",
              "            color:  #f1f1f1;\n",
              "        }    #T_f4b10a4c_7b96_11ea_83d0_0242ac1c0002row15_col2 {\n",
              "            background-color:  #67001f;\n",
              "            color:  #f1f1f1;\n",
              "        }    #T_f4b10a4c_7b96_11ea_83d0_0242ac1c0002row16_col0 {\n",
              "            background-color:  #7eb8d7;\n",
              "            color:  #000000;\n",
              "        }    #T_f4b10a4c_7b96_11ea_83d0_0242ac1c0002row16_col1 {\n",
              "            background-color:  #67001f;\n",
              "            color:  #f1f1f1;\n",
              "        }    #T_f4b10a4c_7b96_11ea_83d0_0242ac1c0002row16_col2 {\n",
              "            background-color:  #053061;\n",
              "            color:  #f1f1f1;\n",
              "        }    #T_f4b10a4c_7b96_11ea_83d0_0242ac1c0002row17_col0 {\n",
              "            background-color:  #124984;\n",
              "            color:  #f1f1f1;\n",
              "        }    #T_f4b10a4c_7b96_11ea_83d0_0242ac1c0002row17_col1 {\n",
              "            background-color:  #053061;\n",
              "            color:  #f1f1f1;\n",
              "        }    #T_f4b10a4c_7b96_11ea_83d0_0242ac1c0002row17_col2 {\n",
              "            background-color:  #67001f;\n",
              "            color:  #f1f1f1;\n",
              "        }    #T_f4b10a4c_7b96_11ea_83d0_0242ac1c0002row18_col0 {\n",
              "            background-color:  #337eb8;\n",
              "            color:  #000000;\n",
              "        }    #T_f4b10a4c_7b96_11ea_83d0_0242ac1c0002row18_col1 {\n",
              "            background-color:  #053061;\n",
              "            color:  #f1f1f1;\n",
              "        }    #T_f4b10a4c_7b96_11ea_83d0_0242ac1c0002row18_col2 {\n",
              "            background-color:  #67001f;\n",
              "            color:  #f1f1f1;\n",
              "        }    #T_f4b10a4c_7b96_11ea_83d0_0242ac1c0002row19_col0 {\n",
              "            background-color:  #f9c2a7;\n",
              "            color:  #000000;\n",
              "        }    #T_f4b10a4c_7b96_11ea_83d0_0242ac1c0002row19_col1 {\n",
              "            background-color:  #053061;\n",
              "            color:  #f1f1f1;\n",
              "        }    #T_f4b10a4c_7b96_11ea_83d0_0242ac1c0002row19_col2 {\n",
              "            background-color:  #67001f;\n",
              "            color:  #f1f1f1;\n",
              "        }    #T_f4b10a4c_7b96_11ea_83d0_0242ac1c0002row20_col0 {\n",
              "            background-color:  #67001f;\n",
              "            color:  #f1f1f1;\n",
              "        }    #T_f4b10a4c_7b96_11ea_83d0_0242ac1c0002row20_col1 {\n",
              "            background-color:  #053061;\n",
              "            color:  #f1f1f1;\n",
              "        }    #T_f4b10a4c_7b96_11ea_83d0_0242ac1c0002row20_col2 {\n",
              "            background-color:  #053061;\n",
              "            color:  #f1f1f1;\n",
              "        }</style><table id=\"T_f4b10a4c_7b96_11ea_83d0_0242ac1c0002\" ><thead>    <tr>        <th class=\"index_name level0\" >label</th>        <th class=\"col_heading level0 col0\" >0</th>        <th class=\"col_heading level0 col1\" >1</th>        <th class=\"col_heading level0 col2\" >2</th>    </tr></thead><tbody>\n",
              "                <tr>\n",
              "                        <th id=\"T_f4b10a4c_7b96_11ea_83d0_0242ac1c0002level0_row0\" class=\"row_heading level0 row0\" >EmpID</th>\n",
              "                        <td id=\"T_f4b10a4c_7b96_11ea_83d0_0242ac1c0002row0_col0\" class=\"data row0 col0\" >1190556803.320388</td>\n",
              "                        <td id=\"T_f4b10a4c_7b96_11ea_83d0_0242ac1c0002row0_col1\" class=\"data row0 col1\" >1194661521.357895</td>\n",
              "                        <td id=\"T_f4b10a4c_7b96_11ea_83d0_0242ac1c0002row0_col2\" class=\"data row0 col2\" >1312236371.000000</td>\n",
              "            </tr>\n",
              "            <tr>\n",
              "                        <th id=\"T_f4b10a4c_7b96_11ea_83d0_0242ac1c0002level0_row1\" class=\"row_heading level0 row1\" >MarriedID</th>\n",
              "                        <td id=\"T_f4b10a4c_7b96_11ea_83d0_0242ac1c0002row1_col0\" class=\"data row1 col0\" >0.446602</td>\n",
              "                        <td id=\"T_f4b10a4c_7b96_11ea_83d0_0242ac1c0002row1_col1\" class=\"data row1 col1\" >0.373684</td>\n",
              "                        <td id=\"T_f4b10a4c_7b96_11ea_83d0_0242ac1c0002row1_col2\" class=\"data row1 col2\" >0.352941</td>\n",
              "            </tr>\n",
              "            <tr>\n",
              "                        <th id=\"T_f4b10a4c_7b96_11ea_83d0_0242ac1c0002level0_row2\" class=\"row_heading level0 row2\" >MaritalStatusID</th>\n",
              "                        <td id=\"T_f4b10a4c_7b96_11ea_83d0_0242ac1c0002row2_col0\" class=\"data row2 col0\" >0.941748</td>\n",
              "                        <td id=\"T_f4b10a4c_7b96_11ea_83d0_0242ac1c0002row2_col1\" class=\"data row2 col1\" >0.736842</td>\n",
              "                        <td id=\"T_f4b10a4c_7b96_11ea_83d0_0242ac1c0002row2_col2\" class=\"data row2 col2\" >0.823529</td>\n",
              "            </tr>\n",
              "            <tr>\n",
              "                        <th id=\"T_f4b10a4c_7b96_11ea_83d0_0242ac1c0002level0_row3\" class=\"row_heading level0 row3\" >GenderID</th>\n",
              "                        <td id=\"T_f4b10a4c_7b96_11ea_83d0_0242ac1c0002row3_col0\" class=\"data row3 col0\" >0.417476</td>\n",
              "                        <td id=\"T_f4b10a4c_7b96_11ea_83d0_0242ac1c0002row3_col1\" class=\"data row3 col1\" >0.426316</td>\n",
              "                        <td id=\"T_f4b10a4c_7b96_11ea_83d0_0242ac1c0002row3_col2\" class=\"data row3 col2\" >0.529412</td>\n",
              "            </tr>\n",
              "            <tr>\n",
              "                        <th id=\"T_f4b10a4c_7b96_11ea_83d0_0242ac1c0002level0_row4\" class=\"row_heading level0 row4\" >EmpStatusID</th>\n",
              "                        <td id=\"T_f4b10a4c_7b96_11ea_83d0_0242ac1c0002row4_col0\" class=\"data row4 col0\" >4.825243</td>\n",
              "                        <td id=\"T_f4b10a4c_7b96_11ea_83d0_0242ac1c0002row4_col1\" class=\"data row4 col1\" >1.200000</td>\n",
              "                        <td id=\"T_f4b10a4c_7b96_11ea_83d0_0242ac1c0002row4_col2\" class=\"data row4 col2\" >1.058824</td>\n",
              "            </tr>\n",
              "            <tr>\n",
              "                        <th id=\"T_f4b10a4c_7b96_11ea_83d0_0242ac1c0002level0_row5\" class=\"row_heading level0 row5\" >DeptID</th>\n",
              "                        <td id=\"T_f4b10a4c_7b96_11ea_83d0_0242ac1c0002row5_col0\" class=\"data row5 col0\" >4.699029</td>\n",
              "                        <td id=\"T_f4b10a4c_7b96_11ea_83d0_0242ac1c0002row5_col1\" class=\"data row5 col1\" >4.447368</td>\n",
              "                        <td id=\"T_f4b10a4c_7b96_11ea_83d0_0242ac1c0002row5_col2\" class=\"data row5 col2\" >5.823529</td>\n",
              "            </tr>\n",
              "            <tr>\n",
              "                        <th id=\"T_f4b10a4c_7b96_11ea_83d0_0242ac1c0002level0_row6\" class=\"row_heading level0 row6\" >PerfScoreID</th>\n",
              "                        <td id=\"T_f4b10a4c_7b96_11ea_83d0_0242ac1c0002row6_col0\" class=\"data row6 col0\" >2.902913</td>\n",
              "                        <td id=\"T_f4b10a4c_7b96_11ea_83d0_0242ac1c0002row6_col1\" class=\"data row6 col1\" >3.042105</td>\n",
              "                        <td id=\"T_f4b10a4c_7b96_11ea_83d0_0242ac1c0002row6_col2\" class=\"data row6 col2\" >2.823529</td>\n",
              "            </tr>\n",
              "            <tr>\n",
              "                        <th id=\"T_f4b10a4c_7b96_11ea_83d0_0242ac1c0002level0_row7\" class=\"row_heading level0 row7\" >FromDiversityJobFairID</th>\n",
              "                        <td id=\"T_f4b10a4c_7b96_11ea_83d0_0242ac1c0002row7_col0\" class=\"data row7 col0\" >0.155340</td>\n",
              "                        <td id=\"T_f4b10a4c_7b96_11ea_83d0_0242ac1c0002row7_col1\" class=\"data row7 col1\" >0.063158</td>\n",
              "                        <td id=\"T_f4b10a4c_7b96_11ea_83d0_0242ac1c0002row7_col2\" class=\"data row7 col2\" >0.058824</td>\n",
              "            </tr>\n",
              "            <tr>\n",
              "                        <th id=\"T_f4b10a4c_7b96_11ea_83d0_0242ac1c0002level0_row8\" class=\"row_heading level0 row8\" >PayRate</th>\n",
              "                        <td id=\"T_f4b10a4c_7b96_11ea_83d0_0242ac1c0002row8_col0\" class=\"data row8 col0\" >26.922330</td>\n",
              "                        <td id=\"T_f4b10a4c_7b96_11ea_83d0_0242ac1c0002row8_col1\" class=\"data row8 col1\" >31.468421</td>\n",
              "                        <td id=\"T_f4b10a4c_7b96_11ea_83d0_0242ac1c0002row8_col2\" class=\"data row8 col2\" >54.000000</td>\n",
              "            </tr>\n",
              "            <tr>\n",
              "                        <th id=\"T_f4b10a4c_7b96_11ea_83d0_0242ac1c0002level0_row9\" class=\"row_heading level0 row9\" >Termd</th>\n",
              "                        <td id=\"T_f4b10a4c_7b96_11ea_83d0_0242ac1c0002row9_col0\" class=\"data row9 col0\" >1.000000</td>\n",
              "                        <td id=\"T_f4b10a4c_7b96_11ea_83d0_0242ac1c0002row9_col1\" class=\"data row9 col1\" >0.000000</td>\n",
              "                        <td id=\"T_f4b10a4c_7b96_11ea_83d0_0242ac1c0002row9_col2\" class=\"data row9 col2\" >0.000000</td>\n",
              "            </tr>\n",
              "            <tr>\n",
              "                        <th id=\"T_f4b10a4c_7b96_11ea_83d0_0242ac1c0002level0_row10\" class=\"row_heading level0 row10\" >PositionID</th>\n",
              "                        <td id=\"T_f4b10a4c_7b96_11ea_83d0_0242ac1c0002row10_col0\" class=\"data row10 col0\" >18.281553</td>\n",
              "                        <td id=\"T_f4b10a4c_7b96_11ea_83d0_0242ac1c0002row10_col1\" class=\"data row10 col1\" >17.263158</td>\n",
              "                        <td id=\"T_f4b10a4c_7b96_11ea_83d0_0242ac1c0002row10_col2\" class=\"data row10 col2\" >3.352941</td>\n",
              "            </tr>\n",
              "            <tr>\n",
              "                        <th id=\"T_f4b10a4c_7b96_11ea_83d0_0242ac1c0002level0_row11\" class=\"row_heading level0 row11\" >State</th>\n",
              "                        <td id=\"T_f4b10a4c_7b96_11ea_83d0_0242ac1c0002row11_col0\" class=\"data row11 col0\" >6.194175</td>\n",
              "                        <td id=\"T_f4b10a4c_7b96_11ea_83d0_0242ac1c0002row11_col1\" class=\"data row11 col1\" >6.247368</td>\n",
              "                        <td id=\"T_f4b10a4c_7b96_11ea_83d0_0242ac1c0002row11_col2\" class=\"data row11 col2\" >33.117647</td>\n",
              "            </tr>\n",
              "            <tr>\n",
              "                        <th id=\"T_f4b10a4c_7b96_11ea_83d0_0242ac1c0002level0_row12\" class=\"row_heading level0 row12\" >Zip</th>\n",
              "                        <td id=\"T_f4b10a4c_7b96_11ea_83d0_0242ac1c0002row12_col0\" class=\"data row12 col0\" >3253.776699</td>\n",
              "                        <td id=\"T_f4b10a4c_7b96_11ea_83d0_0242ac1c0002row12_col1\" class=\"data row12 col1\" >2548.247368</td>\n",
              "                        <td id=\"T_f4b10a4c_7b96_11ea_83d0_0242ac1c0002row12_col2\" class=\"data row12 col2\" >71606.529412</td>\n",
              "            </tr>\n",
              "            <tr>\n",
              "                        <th id=\"T_f4b10a4c_7b96_11ea_83d0_0242ac1c0002level0_row13\" class=\"row_heading level0 row13\" >DOB</th>\n",
              "                        <td id=\"T_f4b10a4c_7b96_11ea_83d0_0242ac1c0002row13_col0\" class=\"data row13 col0\" >799175673786407808.000000</td>\n",
              "                        <td id=\"T_f4b10a4c_7b96_11ea_83d0_0242ac1c0002row13_col1\" class=\"data row13 col1\" >766802273684210560.000000</td>\n",
              "                        <td id=\"T_f4b10a4c_7b96_11ea_83d0_0242ac1c0002row13_col2\" class=\"data row13 col2\" >902880000000000000.000000</td>\n",
              "            </tr>\n",
              "            <tr>\n",
              "                        <th id=\"T_f4b10a4c_7b96_11ea_83d0_0242ac1c0002level0_row14\" class=\"row_heading level0 row14\" >DateofHire</th>\n",
              "                        <td id=\"T_f4b10a4c_7b96_11ea_83d0_0242ac1c0002row14_col0\" class=\"data row14 col0\" >1323907200000000000.000000</td>\n",
              "                        <td id=\"T_f4b10a4c_7b96_11ea_83d0_0242ac1c0002row14_col1\" class=\"data row14 col1\" >1378789844210526208.000000</td>\n",
              "                        <td id=\"T_f4b10a4c_7b96_11ea_83d0_0242ac1c0002row14_col2\" class=\"data row14 col2\" >1355504188235294208.000000</td>\n",
              "            </tr>\n",
              "            <tr>\n",
              "                        <th id=\"T_f4b10a4c_7b96_11ea_83d0_0242ac1c0002level0_row15\" class=\"row_heading level0 row15\" >DateofTermination</th>\n",
              "                        <td id=\"T_f4b10a4c_7b96_11ea_83d0_0242ac1c0002row15_col0\" class=\"data row15 col0\" >1390076178640776704.000000</td>\n",
              "                        <td id=\"T_f4b10a4c_7b96_11ea_83d0_0242ac1c0002row15_col1\" class=\"data row15 col1\" >0.000000</td>\n",
              "                        <td id=\"T_f4b10a4c_7b96_11ea_83d0_0242ac1c0002row15_col2\" class=\"data row15 col2\" >0.000000</td>\n",
              "            </tr>\n",
              "            <tr>\n",
              "                        <th id=\"T_f4b10a4c_7b96_11ea_83d0_0242ac1c0002level0_row16\" class=\"row_heading level0 row16\" >ManagerID</th>\n",
              "                        <td id=\"T_f4b10a4c_7b96_11ea_83d0_0242ac1c0002row16_col0\" class=\"data row16 col0\" >16.864078</td>\n",
              "                        <td id=\"T_f4b10a4c_7b96_11ea_83d0_0242ac1c0002row16_col1\" class=\"data row16 col1\" >12.368421</td>\n",
              "                        <td id=\"T_f4b10a4c_7b96_11ea_83d0_0242ac1c0002row16_col2\" class=\"data row16 col2\" >18.588235</td>\n",
              "            </tr>\n",
              "            <tr>\n",
              "                        <th id=\"T_f4b10a4c_7b96_11ea_83d0_0242ac1c0002level0_row17\" class=\"row_heading level0 row17\" >EngagementSurvey</th>\n",
              "                        <td id=\"T_f4b10a4c_7b96_11ea_83d0_0242ac1c0002row17_col0\" class=\"data row17 col0\" >2.922330</td>\n",
              "                        <td id=\"T_f4b10a4c_7b96_11ea_83d0_0242ac1c0002row17_col1\" class=\"data row17 col1\" >2.936842</td>\n",
              "                        <td id=\"T_f4b10a4c_7b96_11ea_83d0_0242ac1c0002row17_col2\" class=\"data row17 col2\" >2.647059</td>\n",
              "            </tr>\n",
              "            <tr>\n",
              "                        <th id=\"T_f4b10a4c_7b96_11ea_83d0_0242ac1c0002level0_row18\" class=\"row_heading level0 row18\" >EmpSatisfaction</th>\n",
              "                        <td id=\"T_f4b10a4c_7b96_11ea_83d0_0242ac1c0002row18_col0\" class=\"data row18 col0\" >3.873786</td>\n",
              "                        <td id=\"T_f4b10a4c_7b96_11ea_83d0_0242ac1c0002row18_col1\" class=\"data row18 col1\" >3.926316</td>\n",
              "                        <td id=\"T_f4b10a4c_7b96_11ea_83d0_0242ac1c0002row18_col2\" class=\"data row18 col2\" >3.588235</td>\n",
              "            </tr>\n",
              "            <tr>\n",
              "                        <th id=\"T_f4b10a4c_7b96_11ea_83d0_0242ac1c0002level0_row19\" class=\"row_heading level0 row19\" >SpecialProjectsCount</th>\n",
              "                        <td id=\"T_f4b10a4c_7b96_11ea_83d0_0242ac1c0002row19_col0\" class=\"data row19 col0\" >0.737864</td>\n",
              "                        <td id=\"T_f4b10a4c_7b96_11ea_83d0_0242ac1c0002row19_col1\" class=\"data row19 col1\" >1.547368</td>\n",
              "                        <td id=\"T_f4b10a4c_7b96_11ea_83d0_0242ac1c0002row19_col2\" class=\"data row19 col2\" >0.294118</td>\n",
              "            </tr>\n",
              "            <tr>\n",
              "                        <th id=\"T_f4b10a4c_7b96_11ea_83d0_0242ac1c0002level0_row20\" class=\"row_heading level0 row20\" >LastPerformanceReview_Date</th>\n",
              "                        <td id=\"T_f4b10a4c_7b96_11ea_83d0_0242ac1c0002row20_col0\" class=\"data row20 col0\" >0.000000</td>\n",
              "                        <td id=\"T_f4b10a4c_7b96_11ea_83d0_0242ac1c0002row20_col1\" class=\"data row20 col1\" >1548810037894736896.000000</td>\n",
              "                        <td id=\"T_f4b10a4c_7b96_11ea_83d0_0242ac1c0002row20_col2\" class=\"data row20 col2\" >1548491294117647104.000000</td>\n",
              "            </tr>\n",
              "    </tbody></table>"
            ],
            "text/plain": [
              "<pandas.io.formats.style.Styler at 0x7f7d0d943080>"
            ]
          },
          "metadata": {
            "tags": []
          },
          "execution_count": 132
        }
      ]
    },
    {
      "cell_type": "code",
      "metadata": {
        "id": "T1cJVw6Qw-ZN",
        "colab_type": "code",
        "outputId": "ebca7fda-cbe0-4f21-d263-a3a809d00b35",
        "colab": {
          "base_uri": "https://localhost:8080/",
          "height": 425
        }
      },
      "source": [
        "#Matching Manager Names to DepartmentIDs\n",
        "\n",
        "#df =df[df.ManagerName == 'Manager Name']\n",
        "#df.DeptID.unique()\n",
        "\n",
        "#I was doing things the tedious way before finding this awesome approach using groupby!\n",
        "#I was setting the dataframe equal to each manager name, then observing the unique values for DeptID to determine how they match up\n",
        "#This is faster, much more consistent, and gets me one step closer to filling in missing values\n",
        "\n",
        "group = df.groupby('ManagerName')\n",
        "df2 = group.apply(lambda x: x['DeptID'].unique())\n",
        "df2"
      ],
      "execution_count": 0,
      "outputs": [
        {
          "output_type": "execute_result",
          "data": {
            "text/plain": [
              "ManagerName\n",
              "Alex Sweetwater                      [4.0]\n",
              "Amy Dunn                             [5.0]\n",
              "Board of Directors              [2.0, 1.0]\n",
              "Brandon R. LeBlanc                   [1.0]\n",
              "Brannon Miller                       [5.0]\n",
              "Brian Champaigne                     [3.0]\n",
              "David Stanley                        [5.0]\n",
              "Debra Houlihan                       [6.0]\n",
              "Elijiah Gray                         [5.0]\n",
              "Eric Dougall                         [3.0]\n",
              "Janet King            [3.0, 5.0, 6.0, 1.0]\n",
              "Jennifer Zamora                 [3.0, 4.0]\n",
              "John Smith                           [6.0]\n",
              "Kelley Spirea                        [5.0]\n",
              "Ketsia Liebig                        [5.0]\n",
              "Kissy Sullivan                       [5.0]\n",
              "Lynn Daneault                        [6.0]\n",
              "Michael Albert                       [5.0]\n",
              "Peter Monroe                         [3.0]\n",
              "Simon Roup                           [3.0]\n",
              "Webster Butler                       [5.0]\n",
              "dtype: object"
            ]
          },
          "metadata": {
            "tags": []
          },
          "execution_count": 15
        }
      ]
    },
    {
      "cell_type": "code",
      "metadata": {
        "id": "aOilCd0U1dt9",
        "colab_type": "code",
        "colab": {}
      },
      "source": [
        "#Creating a dictionary\n",
        "\n",
        "Dict1 = {}\n",
        "\n",
        "#Adding list as values\n",
        "Dict1[\"Alex Sweetwater\"] = [4.0]\n",
        "Dict1[\"Amy Dunn\"] = [5.0]\n",
        "#Dict1[\"Board of Directors \"] = [2.0, 1.0]\n",
        "Dict1[\"Brandon R. LeBlanc\"] = [1.0]\n",
        "Dict1[\"Brannon Miller \"] = [5.0]\n",
        "Dict1[\"Brian Champaigne\"] = [3.0]\n",
        "Dict1[\"David Stanley \"] = [5.0]\n",
        "Dict1[\"Debra Houlihan\"] = [6.0]\n",
        "Dict1[\"Elijiah Gray\"] = [5.0]\n",
        "Dict1[\"Eric Dougall\"] = [3.0]\n",
        "#Dict1[\"Janet King\"] = [3.0, 5.0, 6.0, 1.0]\n",
        "#Dict1[\"Jennifer Zamora\"] = [3.0, 4.0]\n",
        "Dict1[\"John Smith\"] = [6.0]\n",
        "Dict1[\"Kelley Spirea\"] = [5.0]\n",
        "Dict1[\"Ketsia Liebig\"] = [5.0]\n",
        "Dict1[\"Kissy Sullivan\"] = [5.0]\n",
        "Dict1[\"Lynn Daneault\"] = [6.0]\n",
        "Dict1[\"Michael Albert\"] = [5.0]\n",
        "Dict1[\"Peter Monroe\"] = [3.0]\n",
        "Dict1[\"Simon Roup\"] = [3.0]\n",
        "Dict1[\"Webster Butler\"] = [5.0]\n",
        "\n",
        "print(Dict1)\n"
      ],
      "execution_count": 0,
      "outputs": []
    },
    {
      "cell_type": "code",
      "metadata": {
        "id": "AxGSRCwF3xVZ",
        "colab_type": "code",
        "colab": {}
      },
      "source": [
        "df.DeptID = df.DeptID.fillna(df.ManagerName.map(Dict1))"
      ],
      "execution_count": 0,
      "outputs": []
    },
    {
      "cell_type": "code",
      "metadata": {
        "id": "ev6bpTZb5JVm",
        "colab_type": "code",
        "colab": {}
      },
      "source": [
        "df.isna().mean() * 100"
      ],
      "execution_count": 0,
      "outputs": []
    },
    {
      "cell_type": "code",
      "metadata": {
        "id": "MlE_qwUv4G50",
        "colab_type": "code",
        "colab": {}
      },
      "source": [
        "#Spacer\n"
      ],
      "execution_count": 0,
      "outputs": []
    },
    {
      "cell_type": "code",
      "metadata": {
        "id": "kHSRoge0xHEF",
        "colab_type": "code",
        "outputId": "ee951165-f3dc-4bea-bb92-944b99e683eb",
        "colab": {
          "base_uri": "https://localhost:8080/",
          "height": 425
        }
      },
      "source": [
        "#Matching ManagerNames to ManagerID\n",
        "group = df.groupby('ManagerName')\n",
        "df3 = group.apply(lambda x: x['ManagerID'].unique())\n",
        "df3"
      ],
      "execution_count": 0,
      "outputs": [
        {
          "output_type": "execute_result",
          "data": {
            "text/plain": [
              "ManagerName\n",
              "Alex Sweetwater             [10.0]\n",
              "Amy Dunn                    [11.0]\n",
              "Board of Directors           [9.0]\n",
              "Brandon R. LeBlanc      [1.0, 3.0]\n",
              "Brannon Miller              [12.0]\n",
              "Brian Champaigne            [13.0]\n",
              "David Stanley               [14.0]\n",
              "Debra Houlihan              [15.0]\n",
              "Elijiah Gray                [16.0]\n",
              "Eric Dougall                 [6.0]\n",
              "Janet King                   [2.0]\n",
              "Jennifer Zamora              [5.0]\n",
              "John Smith                  [17.0]\n",
              "Kelley Spirea               [18.0]\n",
              "Ketsia Liebig               [19.0]\n",
              "Kissy Sullivan              [20.0]\n",
              "Lynn Daneault               [21.0]\n",
              "Michael Albert        [22.0, 30.0]\n",
              "Peter Monroe                 [7.0]\n",
              "Simon Roup                   [4.0]\n",
              "Webster Butler         [39.0, 0.0]\n",
              "dtype: object"
            ]
          },
          "metadata": {
            "tags": []
          },
          "execution_count": 16
        }
      ]
    },
    {
      "cell_type": "code",
      "metadata": {
        "id": "CsgzykeNywnn",
        "colab_type": "code",
        "outputId": "1db1114c-11fa-4ec5-954f-43ce8c406ab6",
        "colab": {
          "base_uri": "https://localhost:8080/",
          "height": 621
        }
      },
      "source": [
        "#Matching Position to PositionID\n",
        "group = df.groupby('Position')\n",
        "df4 = group.apply(lambda x: x['PositionID'].unique())\n",
        "df4"
      ],
      "execution_count": 0,
      "outputs": [
        {
          "output_type": "execute_result",
          "data": {
            "text/plain": [
              "Position\n",
              "Accountant I                           [1.0]\n",
              "Administrative Assistant               [2.0]\n",
              "Area Sales Manager                     [3.0]\n",
              "BI Developer                           [4.0]\n",
              "BI Director                            [5.0]\n",
              "CIO                                    [6.0]\n",
              "Data Analyst                           [9.0]\n",
              "Data Analyst                           [9.0]\n",
              "Data Architect                         [7.0]\n",
              "Database Administrator                 [8.0]\n",
              "Director of Operations                [10.0]\n",
              "Director of Sales                     [11.0]\n",
              "Enterprise Architect                  [30.0]\n",
              "IT Director                           [12.0]\n",
              "IT Manager - DB                       [13.0]\n",
              "IT Manager - Infra                    [13.0]\n",
              "IT Manager - Support                  [13.0]\n",
              "IT Support                            [14.0]\n",
              "Network Engineer                      [15.0]\n",
              "President & CEO                       [16.0]\n",
              "Principal Data Architect              [29.0]\n",
              "Production Manager              [17.0, 18.0]\n",
              "Production Technician I               [19.0]\n",
              "Production Technician II              [20.0]\n",
              "Sales Manager                         [21.0]\n",
              "Senior BI Developer                   [22.0]\n",
              "Shared Services Manager               [23.0]\n",
              "Software Engineer                     [24.0]\n",
              "Software Engineering Manager          [25.0]\n",
              "Sr. Accountant                        [26.0]\n",
              "Sr. DBA                               [27.0]\n",
              "Sr. Network Engineer                  [28.0]\n",
              "dtype: object"
            ]
          },
          "metadata": {
            "tags": []
          },
          "execution_count": 17
        }
      ]
    },
    {
      "cell_type": "code",
      "metadata": {
        "id": "RFgGzCgezOE9",
        "colab_type": "code",
        "outputId": "c0fd5d3b-d1c9-42df-c1fc-f21b16cf94cb",
        "colab": {
          "base_uri": "https://localhost:8080/",
          "height": 87
        }
      },
      "source": [
        "#Matching MaritalDesc And MarriedID\n",
        "group = df.groupby('MarriedID')\n",
        "df5 = group.apply(lambda x: x['MaritalDesc'].unique())\n",
        "df5"
      ],
      "execution_count": 0,
      "outputs": [
        {
          "output_type": "execute_result",
          "data": {
            "text/plain": [
              "MarriedID\n",
              "0.0    [Divorced, Single, Widowed, Separated]\n",
              "1.0                                 [Married]\n",
              "dtype: object"
            ]
          },
          "metadata": {
            "tags": []
          },
          "execution_count": 21
        }
      ]
    },
    {
      "cell_type": "code",
      "metadata": {
        "id": "BSYbmGx3zoEL",
        "colab_type": "code",
        "outputId": "9261800a-9cba-462a-ada9-911660b70321",
        "colab": {
          "base_uri": "https://localhost:8080/",
          "height": 123
        }
      },
      "source": [
        "#Matching PerformanceScore and PerfScoreID\n",
        "group = df.groupby('PerformanceScore')\n",
        "df6 = group.apply(lambda x: x['PerfScoreID'].unique())\n",
        "df6"
      ],
      "execution_count": 0,
      "outputs": [
        {
          "output_type": "execute_result",
          "data": {
            "text/plain": [
              "PerformanceScore\n",
              "Exceeds              [4.0]\n",
              "Fully Meets          [3.0]\n",
              "Needs Improvement    [2.0]\n",
              "PIP                  [1.0]\n",
              "dtype: object"
            ]
          },
          "metadata": {
            "tags": []
          },
          "execution_count": 19
        }
      ]
    },
    {
      "cell_type": "code",
      "metadata": {
        "id": "PzKQDyxu6gZE",
        "colab_type": "code",
        "outputId": "afc2c17a-9f39-4623-e0e4-7f1d755440ff",
        "colab": {
          "base_uri": "https://localhost:8080/",
          "height": 621
        }
      },
      "source": [
        "#Matching Position to Department\n",
        "#Each position rolls up into one department, which is nice to see!\n",
        "group = df.groupby('Position')\n",
        "df6 = group.apply(lambda x: x['Department'].unique())\n",
        "df6"
      ],
      "execution_count": 0,
      "outputs": [
        {
          "output_type": "execute_result",
          "data": {
            "text/plain": [
              "Position\n",
              "Accountant I                           [Admin Offices]\n",
              "Administrative Assistant               [Admin Offices]\n",
              "Area Sales Manager                             [Sales]\n",
              "BI Developer                                   [IT/IS]\n",
              "BI Director                                    [IT/IS]\n",
              "CIO                                            [IT/IS]\n",
              "Data Analyst                                   [IT/IS]\n",
              "Data Analyst                                   [IT/IS]\n",
              "Data Architect                                 [IT/IS]\n",
              "Database Administrator                         [IT/IS]\n",
              "Director of Operations             [Production       ]\n",
              "Director of Sales                              [Sales]\n",
              "Enterprise Architect                           [IT/IS]\n",
              "IT Director                                    [IT/IS]\n",
              "IT Manager - DB                                [IT/IS]\n",
              "IT Manager - Infra                             [IT/IS]\n",
              "IT Manager - Support                           [IT/IS]\n",
              "IT Support                                     [IT/IS]\n",
              "Network Engineer                               [IT/IS]\n",
              "President & CEO                     [Executive Office]\n",
              "Principal Data Architect                       [IT/IS]\n",
              "Production Manager                 [Production       ]\n",
              "Production Technician I            [Production       ]\n",
              "Production Technician II           [Production       ]\n",
              "Sales Manager                                  [Sales]\n",
              "Senior BI Developer                            [IT/IS]\n",
              "Shared Services Manager                [Admin Offices]\n",
              "Software Engineer               [Software Engineering]\n",
              "Software Engineering Manager    [Software Engineering]\n",
              "Sr. Accountant                         [Admin Offices]\n",
              "Sr. DBA                                        [IT/IS]\n",
              "Sr. Network Engineer                           [IT/IS]\n",
              "dtype: object"
            ]
          },
          "metadata": {
            "tags": []
          },
          "execution_count": 20
        }
      ]
    },
    {
      "cell_type": "code",
      "metadata": {
        "id": "8p1WPVjI7EfT",
        "colab_type": "code",
        "colab": {}
      },
      "source": [
        "#Sex vs GenderID\n",
        "#Not the most inclusive category grouping, but we'll run with it for the dataset\n",
        "group = df.groupby('Sex')\n",
        "df6 = group.apply(lambda x: x['GenderID'].unique())\n",
        "df6"
      ],
      "execution_count": 0,
      "outputs": []
    },
    {
      "cell_type": "code",
      "metadata": {
        "id": "VIFLPM-07SdQ",
        "colab_type": "code",
        "colab": {}
      },
      "source": [
        ""
      ],
      "execution_count": 0,
      "outputs": []
    },
    {
      "cell_type": "code",
      "metadata": {
        "id": "LkuJC8DI0VNJ",
        "colab_type": "code",
        "colab": {}
      },
      "source": [
        ""
      ],
      "execution_count": 0,
      "outputs": []
    },
    {
      "cell_type": "markdown",
      "metadata": {
        "id": "gilut3akreey",
        "colab_type": "text"
      },
      "source": [
        "\n",
        "Using this space as a placeholder to strategize\n",
        "Need to turn these objects in to dictionaries\n",
        "\n",
        "dict = {'b' : '5', 'c' : '4'}\n",
        "\n",
        "   A  B\n",
        "0  a  2\n",
        "1  b  NaN\n",
        "2  c  NaN\n",
        "\n",
        "df.B = df.B.fillna(df.A.map(dict))\n",
        "\n",
        "    A   B\n",
        "0   a   2\n",
        "1   b   5\n",
        "2   c   4\n",
        "\n",
        "\n",
        "\n",
        "\n",
        "\n",
        "Space\n"
      ]
    },
    {
      "cell_type": "code",
      "metadata": {
        "id": "AZY_0cxX3lIC",
        "colab_type": "code",
        "colab": {}
      },
      "source": [
        "#Let's check out the missing values\n",
        "msno.matrix(df) "
      ],
      "execution_count": 0,
      "outputs": []
    },
    {
      "cell_type": "code",
      "metadata": {
        "id": "4HnBhv2PhVgq",
        "colab_type": "code",
        "colab": {}
      },
      "source": [
        "#Drop NA returns a dataframe with no values- lots of missing data and dropping won't cut it\n",
        "msno.bar(df) "
      ],
      "execution_count": 0,
      "outputs": []
    },
    {
      "cell_type": "code",
      "metadata": {
        "id": "TIrmkE9j8ACa",
        "colab_type": "code",
        "colab": {}
      },
      "source": [
        "df.Department.unique()"
      ],
      "execution_count": 0,
      "outputs": []
    },
    {
      "cell_type": "code",
      "metadata": {
        "id": "eO2ABLnjkEUM",
        "colab_type": "code",
        "colab": {}
      },
      "source": [
        "df.DeptID.unique()"
      ],
      "execution_count": 0,
      "outputs": []
    },
    {
      "cell_type": "code",
      "metadata": {
        "id": "8rWoy4Tqkl0O",
        "colab_type": "code",
        "colab": {}
      },
      "source": [
        "#Let's look at department vs manager. I hypothesize that each manager aligns to a business area. \n",
        "df.Department.value_counts(dropna=False).plot(kind='bar')"
      ],
      "execution_count": 0,
      "outputs": []
    },
    {
      "cell_type": "code",
      "metadata": {
        "id": "mjhOMv1xm2LA",
        "colab_type": "code",
        "colab": {}
      },
      "source": [
        "df.ManagerName.value_counts(dropna=False).plot(kind='bar')"
      ],
      "execution_count": 0,
      "outputs": []
    },
    {
      "cell_type": "code",
      "metadata": {
        "id": "E_dIgLwakWRW",
        "colab_type": "code",
        "colab": {}
      },
      "source": [
        "df.ManagerID.unique()"
      ],
      "execution_count": 0,
      "outputs": []
    }
  ]
}